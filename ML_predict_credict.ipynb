{
 "cells": [
  {
   "cell_type": "markdown",
   "metadata": {},
   "source": [
    "## ML Predict credict card "
   ]
  },
  {
   "cell_type": "markdown",
   "metadata": {},
   "source": [
    "### import Libray"
   ]
  },
  {
   "cell_type": "code",
   "execution_count": 100,
   "metadata": {},
   "outputs": [],
   "source": [
    "#import library\n",
    "import sklearn\n",
    "import warnings\n",
    "import matplotlib\n",
    "%matplotlib inline\n",
    "import numpy as np\n",
    "import pandas as pd\n",
    "from xgboost import XGBRegressor\n",
    "from sklearn.metrics import mean_squared_error\n",
    "from sklearn.tree import DecisionTreeRegressor\n",
    "from sklearn.neural_network import MLPRegressor\n",
    "from sklearn.neighbors import KNeighborsRegressor\n",
    "from sklearn.ensemble import RandomForestRegressor\n",
    "from sklearn.linear_model import LinearRegression\n",
    "from sklearn.model_selection import train_test_split\n",
    "from mlxtend.classifier import StackingCVClassifier\n",
    "from sklearn.model_selection import cross_val_score\n",
    "from sklearn.model_selection import RandomizedSearchCV"
   ]
  },
  {
   "cell_type": "markdown",
   "metadata": {},
   "source": [
    "### Load data from Trian"
   ]
  },
  {
   "cell_type": "code",
   "execution_count": 32,
   "metadata": {},
   "outputs": [
    {
     "data": {
      "text/plain": [
       "14995"
      ]
     },
     "execution_count": 32,
     "metadata": {},
     "output_type": "execute_result"
    }
   ],
   "source": [
    "# load data\n",
    "df = pd.read_excel('train.xlsx')\n",
    "df.head()\n",
    "len(df)"
   ]
  },
  {
   "cell_type": "markdown",
   "metadata": {},
   "source": [
    "#### we will delete the collumn id cuz it not relevant to our prediction"
   ]
  },
  {
   "cell_type": "code",
   "execution_count": 33,
   "metadata": {},
   "outputs": [],
   "source": [
    "# drop id column\n",
    "df.drop(columns=['ID'],axis=1,inplace=True)"
   ]
  },
  {
   "cell_type": "code",
   "execution_count": 34,
   "metadata": {},
   "outputs": [
    {
     "data": {
      "text/html": [
       "<div>\n",
       "<style scoped>\n",
       "    .dataframe tbody tr th:only-of-type {\n",
       "        vertical-align: middle;\n",
       "    }\n",
       "\n",
       "    .dataframe tbody tr th {\n",
       "        vertical-align: top;\n",
       "    }\n",
       "\n",
       "    .dataframe thead th {\n",
       "        text-align: right;\n",
       "    }\n",
       "</style>\n",
       "<table border=\"1\" class=\"dataframe\">\n",
       "  <thead>\n",
       "    <tr style=\"text-align: right;\">\n",
       "      <th></th>\n",
       "      <th>account_type</th>\n",
       "      <th>gender</th>\n",
       "      <th>age</th>\n",
       "      <th>region_code</th>\n",
       "      <th>cc_cons_apr</th>\n",
       "      <th>dc_cons_apr</th>\n",
       "      <th>cc_cons_may</th>\n",
       "      <th>dc_cons_may</th>\n",
       "      <th>cc_cons_jun</th>\n",
       "      <th>dc_cons_jun</th>\n",
       "      <th>...</th>\n",
       "      <th>debit_count_may</th>\n",
       "      <th>max_credit_amount_may</th>\n",
       "      <th>debit_amount_jun</th>\n",
       "      <th>credit_amount_jun</th>\n",
       "      <th>credit_count_jun</th>\n",
       "      <th>debit_count_jun</th>\n",
       "      <th>max_credit_amount_jun</th>\n",
       "      <th>loan_enq</th>\n",
       "      <th>emi_active</th>\n",
       "      <th>cc_cons</th>\n",
       "    </tr>\n",
       "  </thead>\n",
       "  <tbody>\n",
       "    <tr>\n",
       "      <th>0</th>\n",
       "      <td>current</td>\n",
       "      <td>M</td>\n",
       "      <td>35</td>\n",
       "      <td>708</td>\n",
       "      <td>24893.00</td>\n",
       "      <td>378.00</td>\n",
       "      <td>10288.00</td>\n",
       "      <td>29664.00</td>\n",
       "      <td>16291.400</td>\n",
       "      <td>11432.00</td>\n",
       "      <td>...</td>\n",
       "      <td>40</td>\n",
       "      <td>24563.0</td>\n",
       "      <td>30051.32</td>\n",
       "      <td>12761.00</td>\n",
       "      <td>2</td>\n",
       "      <td>65</td>\n",
       "      <td>50836.00</td>\n",
       "      <td>Y</td>\n",
       "      <td>1674.09</td>\n",
       "      <td>20014</td>\n",
       "    </tr>\n",
       "    <tr>\n",
       "      <th>1</th>\n",
       "      <td>current</td>\n",
       "      <td>M</td>\n",
       "      <td>35</td>\n",
       "      <td>123</td>\n",
       "      <td>18941.62</td>\n",
       "      <td>966.00</td>\n",
       "      <td>20672.00</td>\n",
       "      <td>287.00</td>\n",
       "      <td>4217.000</td>\n",
       "      <td>885.00</td>\n",
       "      <td>...</td>\n",
       "      <td>78</td>\n",
       "      <td>23948.0</td>\n",
       "      <td>42119.05</td>\n",
       "      <td>76206.00</td>\n",
       "      <td>21</td>\n",
       "      <td>63</td>\n",
       "      <td>23226.00</td>\n",
       "      <td>Y</td>\n",
       "      <td>13043.34</td>\n",
       "      <td>10173</td>\n",
       "    </tr>\n",
       "    <tr>\n",
       "      <th>2</th>\n",
       "      <td>current</td>\n",
       "      <td>M</td>\n",
       "      <td>55</td>\n",
       "      <td>802</td>\n",
       "      <td>5678.87</td>\n",
       "      <td>2724.00</td>\n",
       "      <td>1964.50</td>\n",
       "      <td>3933.11</td>\n",
       "      <td>23956.250</td>\n",
       "      <td>5168.00</td>\n",
       "      <td>...</td>\n",
       "      <td>82</td>\n",
       "      <td>10752.0</td>\n",
       "      <td>58373.25</td>\n",
       "      <td>75283.00</td>\n",
       "      <td>7</td>\n",
       "      <td>1</td>\n",
       "      <td>27036.00</td>\n",
       "      <td>Y</td>\n",
       "      <td>25375.27</td>\n",
       "      <td>16095</td>\n",
       "    </tr>\n",
       "    <tr>\n",
       "      <th>3</th>\n",
       "      <td>current</td>\n",
       "      <td>F</td>\n",
       "      <td>29</td>\n",
       "      <td>867</td>\n",
       "      <td>30489.50</td>\n",
       "      <td>1236.00</td>\n",
       "      <td>12609.88</td>\n",
       "      <td>9138.14</td>\n",
       "      <td>17521.000</td>\n",
       "      <td>13650.30</td>\n",
       "      <td>...</td>\n",
       "      <td>38</td>\n",
       "      <td>12607.0</td>\n",
       "      <td>69851.51</td>\n",
       "      <td>68708.00</td>\n",
       "      <td>21</td>\n",
       "      <td>83</td>\n",
       "      <td>43037.00</td>\n",
       "      <td>Y</td>\n",
       "      <td>3544.33</td>\n",
       "      <td>7707</td>\n",
       "    </tr>\n",
       "    <tr>\n",
       "      <th>4</th>\n",
       "      <td>current</td>\n",
       "      <td>M</td>\n",
       "      <td>27</td>\n",
       "      <td>958</td>\n",
       "      <td>2328.22</td>\n",
       "      <td>1597.54</td>\n",
       "      <td>19979.75</td>\n",
       "      <td>1045.85</td>\n",
       "      <td>11686.255</td>\n",
       "      <td>628.00</td>\n",
       "      <td>...</td>\n",
       "      <td>2</td>\n",
       "      <td>21440.0</td>\n",
       "      <td>52292.68</td>\n",
       "      <td>199925.50</td>\n",
       "      <td>2</td>\n",
       "      <td>35</td>\n",
       "      <td>17284.00</td>\n",
       "      <td>Y</td>\n",
       "      <td>5026.50</td>\n",
       "      <td>130263</td>\n",
       "    </tr>\n",
       "    <tr>\n",
       "      <th>...</th>\n",
       "      <td>...</td>\n",
       "      <td>...</td>\n",
       "      <td>...</td>\n",
       "      <td>...</td>\n",
       "      <td>...</td>\n",
       "      <td>...</td>\n",
       "      <td>...</td>\n",
       "      <td>...</td>\n",
       "      <td>...</td>\n",
       "      <td>...</td>\n",
       "      <td>...</td>\n",
       "      <td>...</td>\n",
       "      <td>...</td>\n",
       "      <td>...</td>\n",
       "      <td>...</td>\n",
       "      <td>...</td>\n",
       "      <td>...</td>\n",
       "      <td>...</td>\n",
       "      <td>...</td>\n",
       "      <td>...</td>\n",
       "      <td>...</td>\n",
       "    </tr>\n",
       "    <tr>\n",
       "      <th>14990</th>\n",
       "      <td>current</td>\n",
       "      <td>F</td>\n",
       "      <td>53</td>\n",
       "      <td>653</td>\n",
       "      <td>10443.76</td>\n",
       "      <td>1218.85</td>\n",
       "      <td>7252.24</td>\n",
       "      <td>3873.00</td>\n",
       "      <td>6633.000</td>\n",
       "      <td>10107.00</td>\n",
       "      <td>...</td>\n",
       "      <td>8</td>\n",
       "      <td>6936.0</td>\n",
       "      <td>487751.19</td>\n",
       "      <td>42625.50</td>\n",
       "      <td>14</td>\n",
       "      <td>8</td>\n",
       "      <td>82851.00</td>\n",
       "      <td>Y</td>\n",
       "      <td>78966.76</td>\n",
       "      <td>4263</td>\n",
       "    </tr>\n",
       "    <tr>\n",
       "      <th>14991</th>\n",
       "      <td>current</td>\n",
       "      <td>M</td>\n",
       "      <td>44</td>\n",
       "      <td>535</td>\n",
       "      <td>29890.33</td>\n",
       "      <td>6308.00</td>\n",
       "      <td>16025.50</td>\n",
       "      <td>7610.00</td>\n",
       "      <td>2213.080</td>\n",
       "      <td>841.60</td>\n",
       "      <td>...</td>\n",
       "      <td>20</td>\n",
       "      <td>202639.0</td>\n",
       "      <td>8666.01</td>\n",
       "      <td>34987.55</td>\n",
       "      <td>11</td>\n",
       "      <td>18</td>\n",
       "      <td>118110.47</td>\n",
       "      <td>Y</td>\n",
       "      <td>4762.10</td>\n",
       "      <td>11019</td>\n",
       "    </tr>\n",
       "    <tr>\n",
       "      <th>14992</th>\n",
       "      <td>current</td>\n",
       "      <td>M</td>\n",
       "      <td>37</td>\n",
       "      <td>464</td>\n",
       "      <td>4148.98</td>\n",
       "      <td>948.74</td>\n",
       "      <td>19360.26</td>\n",
       "      <td>494.00</td>\n",
       "      <td>44363.910</td>\n",
       "      <td>1801.77</td>\n",
       "      <td>...</td>\n",
       "      <td>5</td>\n",
       "      <td>44421.0</td>\n",
       "      <td>97896.48</td>\n",
       "      <td>261432.00</td>\n",
       "      <td>4</td>\n",
       "      <td>73</td>\n",
       "      <td>49545.00</td>\n",
       "      <td>Y</td>\n",
       "      <td>2877.33</td>\n",
       "      <td>404227</td>\n",
       "    </tr>\n",
       "    <tr>\n",
       "      <th>14993</th>\n",
       "      <td>current</td>\n",
       "      <td>M</td>\n",
       "      <td>220</td>\n",
       "      <td>536</td>\n",
       "      <td>115574.00</td>\n",
       "      <td>7191.05</td>\n",
       "      <td>44341.13</td>\n",
       "      <td>34817.20</td>\n",
       "      <td>20679.000</td>\n",
       "      <td>1010.00</td>\n",
       "      <td>...</td>\n",
       "      <td>25</td>\n",
       "      <td>22409.0</td>\n",
       "      <td>22693.92</td>\n",
       "      <td>33025.29</td>\n",
       "      <td>3</td>\n",
       "      <td>80</td>\n",
       "      <td>16130.00</td>\n",
       "      <td>Y</td>\n",
       "      <td>13006.84</td>\n",
       "      <td>28813</td>\n",
       "    </tr>\n",
       "    <tr>\n",
       "      <th>14994</th>\n",
       "      <td>current</td>\n",
       "      <td>M</td>\n",
       "      <td>66</td>\n",
       "      <td>269</td>\n",
       "      <td>7375.67</td>\n",
       "      <td>306.80</td>\n",
       "      <td>5859.49</td>\n",
       "      <td>6702.40</td>\n",
       "      <td>33211.650</td>\n",
       "      <td>263.00</td>\n",
       "      <td>...</td>\n",
       "      <td>82</td>\n",
       "      <td>8084.0</td>\n",
       "      <td>41328.96</td>\n",
       "      <td>78574.00</td>\n",
       "      <td>47</td>\n",
       "      <td>50</td>\n",
       "      <td>22849.00</td>\n",
       "      <td>Y</td>\n",
       "      <td>1588.60</td>\n",
       "      <td>16252</td>\n",
       "    </tr>\n",
       "  </tbody>\n",
       "</table>\n",
       "<p>14995 rows × 43 columns</p>\n",
       "</div>"
      ],
      "text/plain": [
       "      account_type gender  age  region_code  cc_cons_apr  dc_cons_apr  \\\n",
       "0          current      M   35          708     24893.00       378.00   \n",
       "1          current      M   35          123     18941.62       966.00   \n",
       "2          current      M   55          802      5678.87      2724.00   \n",
       "3          current      F   29          867     30489.50      1236.00   \n",
       "4          current      M   27          958      2328.22      1597.54   \n",
       "...            ...    ...  ...          ...          ...          ...   \n",
       "14990      current      F   53          653     10443.76      1218.85   \n",
       "14991      current      M   44          535     29890.33      6308.00   \n",
       "14992      current      M   37          464      4148.98       948.74   \n",
       "14993      current      M  220          536    115574.00      7191.05   \n",
       "14994      current      M   66          269      7375.67       306.80   \n",
       "\n",
       "       cc_cons_may  dc_cons_may  cc_cons_jun  dc_cons_jun  ...  \\\n",
       "0         10288.00     29664.00    16291.400     11432.00  ...   \n",
       "1         20672.00       287.00     4217.000       885.00  ...   \n",
       "2          1964.50      3933.11    23956.250      5168.00  ...   \n",
       "3         12609.88      9138.14    17521.000     13650.30  ...   \n",
       "4         19979.75      1045.85    11686.255       628.00  ...   \n",
       "...            ...          ...          ...          ...  ...   \n",
       "14990      7252.24      3873.00     6633.000     10107.00  ...   \n",
       "14991     16025.50      7610.00     2213.080       841.60  ...   \n",
       "14992     19360.26       494.00    44363.910      1801.77  ...   \n",
       "14993     44341.13     34817.20    20679.000      1010.00  ...   \n",
       "14994      5859.49      6702.40    33211.650       263.00  ...   \n",
       "\n",
       "       debit_count_may  max_credit_amount_may  debit_amount_jun  \\\n",
       "0                   40                24563.0          30051.32   \n",
       "1                   78                23948.0          42119.05   \n",
       "2                   82                10752.0          58373.25   \n",
       "3                   38                12607.0          69851.51   \n",
       "4                    2                21440.0          52292.68   \n",
       "...                ...                    ...               ...   \n",
       "14990                8                 6936.0         487751.19   \n",
       "14991               20               202639.0           8666.01   \n",
       "14992                5                44421.0          97896.48   \n",
       "14993               25                22409.0          22693.92   \n",
       "14994               82                 8084.0          41328.96   \n",
       "\n",
       "       credit_amount_jun  credit_count_jun  debit_count_jun  \\\n",
       "0               12761.00                 2               65   \n",
       "1               76206.00                21               63   \n",
       "2               75283.00                 7                1   \n",
       "3               68708.00                21               83   \n",
       "4              199925.50                 2               35   \n",
       "...                  ...               ...              ...   \n",
       "14990           42625.50                14                8   \n",
       "14991           34987.55                11               18   \n",
       "14992          261432.00                 4               73   \n",
       "14993           33025.29                 3               80   \n",
       "14994           78574.00                47               50   \n",
       "\n",
       "       max_credit_amount_jun  loan_enq  emi_active  cc_cons  \n",
       "0                   50836.00         Y     1674.09    20014  \n",
       "1                   23226.00         Y    13043.34    10173  \n",
       "2                   27036.00         Y    25375.27    16095  \n",
       "3                   43037.00         Y     3544.33     7707  \n",
       "4                   17284.00         Y     5026.50   130263  \n",
       "...                      ...       ...         ...      ...  \n",
       "14990               82851.00         Y    78966.76     4263  \n",
       "14991              118110.47         Y     4762.10    11019  \n",
       "14992               49545.00         Y     2877.33   404227  \n",
       "14993               16130.00         Y    13006.84    28813  \n",
       "14994               22849.00         Y     1588.60    16252  \n",
       "\n",
       "[14995 rows x 43 columns]"
      ]
     },
     "execution_count": 34,
     "metadata": {},
     "output_type": "execute_result"
    }
   ],
   "source": [
    "df"
   ]
  },
  {
   "cell_type": "markdown",
   "metadata": {},
   "source": [
    "#### checking missing value"
   ]
  },
  {
   "cell_type": "code",
   "execution_count": 35,
   "metadata": {},
   "outputs": [
    {
     "data": {
      "text/plain": [
       "account_type             0\n",
       "gender                   0\n",
       "age                      0\n",
       "region_code              0\n",
       "cc_cons_apr              0\n",
       "dc_cons_apr              0\n",
       "cc_cons_may              0\n",
       "dc_cons_may              0\n",
       "cc_cons_jun              0\n",
       "dc_cons_jun              0\n",
       "cc_count_apr             0\n",
       "cc_count_may             0\n",
       "cc_count_jun             0\n",
       "dc_count_apr             0\n",
       "dc_count_may             0\n",
       "dc_count_jun             0\n",
       "card_lim                 0\n",
       "personal_loan_active     0\n",
       "vehicle_loan_active      0\n",
       "personal_loan_closed     0\n",
       "vehicle_loan_closed      0\n",
       "investment_1             0\n",
       "investment_2             0\n",
       "investment_3             0\n",
       "investment_4             0\n",
       "debit_amount_apr         0\n",
       "credit_amount_apr        0\n",
       "debit_count_apr          0\n",
       "credit_count_apr         0\n",
       "max_credit_amount_apr    0\n",
       "debit_amount_may         0\n",
       "credit_amount_may        0\n",
       "credit_count_may         0\n",
       "debit_count_may          0\n",
       "max_credit_amount_may    0\n",
       "debit_amount_jun         0\n",
       "credit_amount_jun        0\n",
       "credit_count_jun         0\n",
       "debit_count_jun          0\n",
       "max_credit_amount_jun    0\n",
       "loan_enq                 0\n",
       "emi_active               0\n",
       "cc_cons                  0\n",
       "dtype: int64"
      ]
     },
     "execution_count": 35,
     "metadata": {},
     "output_type": "execute_result"
    }
   ],
   "source": [
    "round(df.isnull().sum())"
   ]
  },
  {
   "cell_type": "markdown",
   "metadata": {},
   "source": [
    "#### Split catepory for non-numeric col"
   ]
  },
  {
   "cell_type": "code",
   "execution_count": 37,
   "metadata": {},
   "outputs": [],
   "source": [
    "# change the datatypes of the columns accordingly for generating dummies\n",
    "categorical_columns=['account_type','gender','region_code','personal_loan_active',\n",
    "                     'vehicle_loan_active','personal_loan_closed','vehicle_loan_closed','loan_enq']\n",
    "for c in categorical_columns:\n",
    "    df[c]=df[c].astype('category');"
   ]
  },
  {
   "cell_type": "code",
   "execution_count": 42,
   "metadata": {},
   "outputs": [
    {
     "data": {
      "text/html": [
       "<div>\n",
       "<style scoped>\n",
       "    .dataframe tbody tr th:only-of-type {\n",
       "        vertical-align: middle;\n",
       "    }\n",
       "\n",
       "    .dataframe tbody tr th {\n",
       "        vertical-align: top;\n",
       "    }\n",
       "\n",
       "    .dataframe thead th {\n",
       "        text-align: right;\n",
       "    }\n",
       "</style>\n",
       "<table border=\"1\" class=\"dataframe\">\n",
       "  <thead>\n",
       "    <tr style=\"text-align: right;\">\n",
       "      <th></th>\n",
       "      <th>account_type</th>\n",
       "      <th>gender</th>\n",
       "      <th>age</th>\n",
       "      <th>region_code</th>\n",
       "      <th>cc_cons_apr</th>\n",
       "      <th>dc_cons_apr</th>\n",
       "      <th>cc_cons_may</th>\n",
       "      <th>dc_cons_may</th>\n",
       "      <th>cc_cons_jun</th>\n",
       "      <th>dc_cons_jun</th>\n",
       "      <th>...</th>\n",
       "      <th>debit_count_may</th>\n",
       "      <th>max_credit_amount_may</th>\n",
       "      <th>debit_amount_jun</th>\n",
       "      <th>credit_amount_jun</th>\n",
       "      <th>credit_count_jun</th>\n",
       "      <th>debit_count_jun</th>\n",
       "      <th>max_credit_amount_jun</th>\n",
       "      <th>loan_enq</th>\n",
       "      <th>emi_active</th>\n",
       "      <th>cc_cons</th>\n",
       "    </tr>\n",
       "  </thead>\n",
       "  <tbody>\n",
       "    <tr>\n",
       "      <th>0</th>\n",
       "      <td>current</td>\n",
       "      <td>M</td>\n",
       "      <td>35</td>\n",
       "      <td>708</td>\n",
       "      <td>24893.00</td>\n",
       "      <td>378.00</td>\n",
       "      <td>10288.00</td>\n",
       "      <td>29664.00</td>\n",
       "      <td>16291.400</td>\n",
       "      <td>11432.00</td>\n",
       "      <td>...</td>\n",
       "      <td>40</td>\n",
       "      <td>24563.0</td>\n",
       "      <td>30051.32</td>\n",
       "      <td>12761.00</td>\n",
       "      <td>2</td>\n",
       "      <td>65</td>\n",
       "      <td>50836.00</td>\n",
       "      <td>Y</td>\n",
       "      <td>1674.09</td>\n",
       "      <td>20014</td>\n",
       "    </tr>\n",
       "    <tr>\n",
       "      <th>1</th>\n",
       "      <td>current</td>\n",
       "      <td>M</td>\n",
       "      <td>35</td>\n",
       "      <td>123</td>\n",
       "      <td>18941.62</td>\n",
       "      <td>966.00</td>\n",
       "      <td>20672.00</td>\n",
       "      <td>287.00</td>\n",
       "      <td>4217.000</td>\n",
       "      <td>885.00</td>\n",
       "      <td>...</td>\n",
       "      <td>78</td>\n",
       "      <td>23948.0</td>\n",
       "      <td>42119.05</td>\n",
       "      <td>76206.00</td>\n",
       "      <td>21</td>\n",
       "      <td>63</td>\n",
       "      <td>23226.00</td>\n",
       "      <td>Y</td>\n",
       "      <td>13043.34</td>\n",
       "      <td>10173</td>\n",
       "    </tr>\n",
       "    <tr>\n",
       "      <th>2</th>\n",
       "      <td>current</td>\n",
       "      <td>M</td>\n",
       "      <td>55</td>\n",
       "      <td>802</td>\n",
       "      <td>5678.87</td>\n",
       "      <td>2724.00</td>\n",
       "      <td>1964.50</td>\n",
       "      <td>3933.11</td>\n",
       "      <td>23956.250</td>\n",
       "      <td>5168.00</td>\n",
       "      <td>...</td>\n",
       "      <td>82</td>\n",
       "      <td>10752.0</td>\n",
       "      <td>58373.25</td>\n",
       "      <td>75283.00</td>\n",
       "      <td>7</td>\n",
       "      <td>1</td>\n",
       "      <td>27036.00</td>\n",
       "      <td>Y</td>\n",
       "      <td>25375.27</td>\n",
       "      <td>16095</td>\n",
       "    </tr>\n",
       "    <tr>\n",
       "      <th>3</th>\n",
       "      <td>current</td>\n",
       "      <td>F</td>\n",
       "      <td>29</td>\n",
       "      <td>867</td>\n",
       "      <td>30489.50</td>\n",
       "      <td>1236.00</td>\n",
       "      <td>12609.88</td>\n",
       "      <td>9138.14</td>\n",
       "      <td>17521.000</td>\n",
       "      <td>13650.30</td>\n",
       "      <td>...</td>\n",
       "      <td>38</td>\n",
       "      <td>12607.0</td>\n",
       "      <td>69851.51</td>\n",
       "      <td>68708.00</td>\n",
       "      <td>21</td>\n",
       "      <td>83</td>\n",
       "      <td>43037.00</td>\n",
       "      <td>Y</td>\n",
       "      <td>3544.33</td>\n",
       "      <td>7707</td>\n",
       "    </tr>\n",
       "    <tr>\n",
       "      <th>4</th>\n",
       "      <td>current</td>\n",
       "      <td>M</td>\n",
       "      <td>27</td>\n",
       "      <td>958</td>\n",
       "      <td>2328.22</td>\n",
       "      <td>1597.54</td>\n",
       "      <td>19979.75</td>\n",
       "      <td>1045.85</td>\n",
       "      <td>11686.255</td>\n",
       "      <td>628.00</td>\n",
       "      <td>...</td>\n",
       "      <td>2</td>\n",
       "      <td>21440.0</td>\n",
       "      <td>52292.68</td>\n",
       "      <td>199925.50</td>\n",
       "      <td>2</td>\n",
       "      <td>35</td>\n",
       "      <td>17284.00</td>\n",
       "      <td>Y</td>\n",
       "      <td>5026.50</td>\n",
       "      <td>130263</td>\n",
       "    </tr>\n",
       "    <tr>\n",
       "      <th>...</th>\n",
       "      <td>...</td>\n",
       "      <td>...</td>\n",
       "      <td>...</td>\n",
       "      <td>...</td>\n",
       "      <td>...</td>\n",
       "      <td>...</td>\n",
       "      <td>...</td>\n",
       "      <td>...</td>\n",
       "      <td>...</td>\n",
       "      <td>...</td>\n",
       "      <td>...</td>\n",
       "      <td>...</td>\n",
       "      <td>...</td>\n",
       "      <td>...</td>\n",
       "      <td>...</td>\n",
       "      <td>...</td>\n",
       "      <td>...</td>\n",
       "      <td>...</td>\n",
       "      <td>...</td>\n",
       "      <td>...</td>\n",
       "      <td>...</td>\n",
       "    </tr>\n",
       "    <tr>\n",
       "      <th>14990</th>\n",
       "      <td>current</td>\n",
       "      <td>F</td>\n",
       "      <td>53</td>\n",
       "      <td>653</td>\n",
       "      <td>10443.76</td>\n",
       "      <td>1218.85</td>\n",
       "      <td>7252.24</td>\n",
       "      <td>3873.00</td>\n",
       "      <td>6633.000</td>\n",
       "      <td>10107.00</td>\n",
       "      <td>...</td>\n",
       "      <td>8</td>\n",
       "      <td>6936.0</td>\n",
       "      <td>487751.19</td>\n",
       "      <td>42625.50</td>\n",
       "      <td>14</td>\n",
       "      <td>8</td>\n",
       "      <td>82851.00</td>\n",
       "      <td>Y</td>\n",
       "      <td>78966.76</td>\n",
       "      <td>4263</td>\n",
       "    </tr>\n",
       "    <tr>\n",
       "      <th>14991</th>\n",
       "      <td>current</td>\n",
       "      <td>M</td>\n",
       "      <td>44</td>\n",
       "      <td>535</td>\n",
       "      <td>29890.33</td>\n",
       "      <td>6308.00</td>\n",
       "      <td>16025.50</td>\n",
       "      <td>7610.00</td>\n",
       "      <td>2213.080</td>\n",
       "      <td>841.60</td>\n",
       "      <td>...</td>\n",
       "      <td>20</td>\n",
       "      <td>202639.0</td>\n",
       "      <td>8666.01</td>\n",
       "      <td>34987.55</td>\n",
       "      <td>11</td>\n",
       "      <td>18</td>\n",
       "      <td>118110.47</td>\n",
       "      <td>Y</td>\n",
       "      <td>4762.10</td>\n",
       "      <td>11019</td>\n",
       "    </tr>\n",
       "    <tr>\n",
       "      <th>14992</th>\n",
       "      <td>current</td>\n",
       "      <td>M</td>\n",
       "      <td>37</td>\n",
       "      <td>464</td>\n",
       "      <td>4148.98</td>\n",
       "      <td>948.74</td>\n",
       "      <td>19360.26</td>\n",
       "      <td>494.00</td>\n",
       "      <td>44363.910</td>\n",
       "      <td>1801.77</td>\n",
       "      <td>...</td>\n",
       "      <td>5</td>\n",
       "      <td>44421.0</td>\n",
       "      <td>97896.48</td>\n",
       "      <td>261432.00</td>\n",
       "      <td>4</td>\n",
       "      <td>73</td>\n",
       "      <td>49545.00</td>\n",
       "      <td>Y</td>\n",
       "      <td>2877.33</td>\n",
       "      <td>404227</td>\n",
       "    </tr>\n",
       "    <tr>\n",
       "      <th>14993</th>\n",
       "      <td>current</td>\n",
       "      <td>M</td>\n",
       "      <td>220</td>\n",
       "      <td>536</td>\n",
       "      <td>115574.00</td>\n",
       "      <td>7191.05</td>\n",
       "      <td>44341.13</td>\n",
       "      <td>34817.20</td>\n",
       "      <td>20679.000</td>\n",
       "      <td>1010.00</td>\n",
       "      <td>...</td>\n",
       "      <td>25</td>\n",
       "      <td>22409.0</td>\n",
       "      <td>22693.92</td>\n",
       "      <td>33025.29</td>\n",
       "      <td>3</td>\n",
       "      <td>80</td>\n",
       "      <td>16130.00</td>\n",
       "      <td>Y</td>\n",
       "      <td>13006.84</td>\n",
       "      <td>28813</td>\n",
       "    </tr>\n",
       "    <tr>\n",
       "      <th>14994</th>\n",
       "      <td>current</td>\n",
       "      <td>M</td>\n",
       "      <td>66</td>\n",
       "      <td>269</td>\n",
       "      <td>7375.67</td>\n",
       "      <td>306.80</td>\n",
       "      <td>5859.49</td>\n",
       "      <td>6702.40</td>\n",
       "      <td>33211.650</td>\n",
       "      <td>263.00</td>\n",
       "      <td>...</td>\n",
       "      <td>82</td>\n",
       "      <td>8084.0</td>\n",
       "      <td>41328.96</td>\n",
       "      <td>78574.00</td>\n",
       "      <td>47</td>\n",
       "      <td>50</td>\n",
       "      <td>22849.00</td>\n",
       "      <td>Y</td>\n",
       "      <td>1588.60</td>\n",
       "      <td>16252</td>\n",
       "    </tr>\n",
       "  </tbody>\n",
       "</table>\n",
       "<p>14995 rows × 43 columns</p>\n",
       "</div>"
      ],
      "text/plain": [
       "      account_type gender  age region_code  cc_cons_apr  dc_cons_apr  \\\n",
       "0          current      M   35         708     24893.00       378.00   \n",
       "1          current      M   35         123     18941.62       966.00   \n",
       "2          current      M   55         802      5678.87      2724.00   \n",
       "3          current      F   29         867     30489.50      1236.00   \n",
       "4          current      M   27         958      2328.22      1597.54   \n",
       "...            ...    ...  ...         ...          ...          ...   \n",
       "14990      current      F   53         653     10443.76      1218.85   \n",
       "14991      current      M   44         535     29890.33      6308.00   \n",
       "14992      current      M   37         464      4148.98       948.74   \n",
       "14993      current      M  220         536    115574.00      7191.05   \n",
       "14994      current      M   66         269      7375.67       306.80   \n",
       "\n",
       "       cc_cons_may  dc_cons_may  cc_cons_jun  dc_cons_jun  ...  \\\n",
       "0         10288.00     29664.00    16291.400     11432.00  ...   \n",
       "1         20672.00       287.00     4217.000       885.00  ...   \n",
       "2          1964.50      3933.11    23956.250      5168.00  ...   \n",
       "3         12609.88      9138.14    17521.000     13650.30  ...   \n",
       "4         19979.75      1045.85    11686.255       628.00  ...   \n",
       "...            ...          ...          ...          ...  ...   \n",
       "14990      7252.24      3873.00     6633.000     10107.00  ...   \n",
       "14991     16025.50      7610.00     2213.080       841.60  ...   \n",
       "14992     19360.26       494.00    44363.910      1801.77  ...   \n",
       "14993     44341.13     34817.20    20679.000      1010.00  ...   \n",
       "14994      5859.49      6702.40    33211.650       263.00  ...   \n",
       "\n",
       "       debit_count_may  max_credit_amount_may  debit_amount_jun  \\\n",
       "0                   40                24563.0          30051.32   \n",
       "1                   78                23948.0          42119.05   \n",
       "2                   82                10752.0          58373.25   \n",
       "3                   38                12607.0          69851.51   \n",
       "4                    2                21440.0          52292.68   \n",
       "...                ...                    ...               ...   \n",
       "14990                8                 6936.0         487751.19   \n",
       "14991               20               202639.0           8666.01   \n",
       "14992                5                44421.0          97896.48   \n",
       "14993               25                22409.0          22693.92   \n",
       "14994               82                 8084.0          41328.96   \n",
       "\n",
       "       credit_amount_jun  credit_count_jun  debit_count_jun  \\\n",
       "0               12761.00                 2               65   \n",
       "1               76206.00                21               63   \n",
       "2               75283.00                 7                1   \n",
       "3               68708.00                21               83   \n",
       "4              199925.50                 2               35   \n",
       "...                  ...               ...              ...   \n",
       "14990           42625.50                14                8   \n",
       "14991           34987.55                11               18   \n",
       "14992          261432.00                 4               73   \n",
       "14993           33025.29                 3               80   \n",
       "14994           78574.00                47               50   \n",
       "\n",
       "       max_credit_amount_jun loan_enq emi_active cc_cons  \n",
       "0                   50836.00        Y    1674.09   20014  \n",
       "1                   23226.00        Y   13043.34   10173  \n",
       "2                   27036.00        Y   25375.27   16095  \n",
       "3                   43037.00        Y    3544.33    7707  \n",
       "4                   17284.00        Y    5026.50  130263  \n",
       "...                      ...      ...        ...     ...  \n",
       "14990               82851.00        Y   78966.76    4263  \n",
       "14991              118110.47        Y    4762.10   11019  \n",
       "14992               49545.00        Y    2877.33  404227  \n",
       "14993               16130.00        Y   13006.84   28813  \n",
       "14994               22849.00        Y    1588.60   16252  \n",
       "\n",
       "[14995 rows x 43 columns]"
      ]
     },
     "execution_count": 42,
     "metadata": {},
     "output_type": "execute_result"
    }
   ],
   "source": [
    "df"
   ]
  },
  {
   "cell_type": "markdown",
   "metadata": {},
   "source": [
    "### Feature Engineering"
   ]
  },
  {
   "cell_type": "code",
   "execution_count": 43,
   "metadata": {},
   "outputs": [
    {
     "data": {
      "text/html": [
       "<div>\n",
       "<style scoped>\n",
       "    .dataframe tbody tr th:only-of-type {\n",
       "        vertical-align: middle;\n",
       "    }\n",
       "\n",
       "    .dataframe tbody tr th {\n",
       "        vertical-align: top;\n",
       "    }\n",
       "\n",
       "    .dataframe thead th {\n",
       "        text-align: right;\n",
       "    }\n",
       "</style>\n",
       "<table border=\"1\" class=\"dataframe\">\n",
       "  <thead>\n",
       "    <tr style=\"text-align: right;\">\n",
       "      <th></th>\n",
       "      <th>account_type</th>\n",
       "      <th>gender</th>\n",
       "      <th>age</th>\n",
       "      <th>cc_cons_apr</th>\n",
       "      <th>dc_cons_apr</th>\n",
       "      <th>cc_cons_may</th>\n",
       "      <th>dc_cons_may</th>\n",
       "      <th>cc_cons_jun</th>\n",
       "      <th>dc_cons_jun</th>\n",
       "      <th>cc_count_apr</th>\n",
       "      <th>...</th>\n",
       "      <th>credit_count_may</th>\n",
       "      <th>debit_count_may</th>\n",
       "      <th>max_credit_amount_may</th>\n",
       "      <th>debit_amount_jun</th>\n",
       "      <th>credit_amount_jun</th>\n",
       "      <th>credit_count_jun</th>\n",
       "      <th>debit_count_jun</th>\n",
       "      <th>max_credit_amount_jun</th>\n",
       "      <th>loan_enq</th>\n",
       "      <th>emi_active</th>\n",
       "    </tr>\n",
       "  </thead>\n",
       "  <tbody>\n",
       "    <tr>\n",
       "      <th>0</th>\n",
       "      <td>current</td>\n",
       "      <td>M</td>\n",
       "      <td>35</td>\n",
       "      <td>24893.00</td>\n",
       "      <td>378.00</td>\n",
       "      <td>10288.00</td>\n",
       "      <td>29664.00</td>\n",
       "      <td>16291.400</td>\n",
       "      <td>11432.0</td>\n",
       "      <td>2</td>\n",
       "      <td>...</td>\n",
       "      <td>2</td>\n",
       "      <td>40</td>\n",
       "      <td>24563.0</td>\n",
       "      <td>30051.32</td>\n",
       "      <td>12761.0</td>\n",
       "      <td>2</td>\n",
       "      <td>65</td>\n",
       "      <td>50836.0</td>\n",
       "      <td>Y</td>\n",
       "      <td>1674.09</td>\n",
       "    </tr>\n",
       "    <tr>\n",
       "      <th>1</th>\n",
       "      <td>current</td>\n",
       "      <td>M</td>\n",
       "      <td>35</td>\n",
       "      <td>18941.62</td>\n",
       "      <td>966.00</td>\n",
       "      <td>20672.00</td>\n",
       "      <td>287.00</td>\n",
       "      <td>4217.000</td>\n",
       "      <td>885.0</td>\n",
       "      <td>1</td>\n",
       "      <td>...</td>\n",
       "      <td>2</td>\n",
       "      <td>78</td>\n",
       "      <td>23948.0</td>\n",
       "      <td>42119.05</td>\n",
       "      <td>76206.0</td>\n",
       "      <td>21</td>\n",
       "      <td>63</td>\n",
       "      <td>23226.0</td>\n",
       "      <td>Y</td>\n",
       "      <td>13043.34</td>\n",
       "    </tr>\n",
       "    <tr>\n",
       "      <th>2</th>\n",
       "      <td>current</td>\n",
       "      <td>M</td>\n",
       "      <td>55</td>\n",
       "      <td>5678.87</td>\n",
       "      <td>2724.00</td>\n",
       "      <td>1964.50</td>\n",
       "      <td>3933.11</td>\n",
       "      <td>23956.250</td>\n",
       "      <td>5168.0</td>\n",
       "      <td>43</td>\n",
       "      <td>...</td>\n",
       "      <td>2</td>\n",
       "      <td>82</td>\n",
       "      <td>10752.0</td>\n",
       "      <td>58373.25</td>\n",
       "      <td>75283.0</td>\n",
       "      <td>7</td>\n",
       "      <td>1</td>\n",
       "      <td>27036.0</td>\n",
       "      <td>Y</td>\n",
       "      <td>25375.27</td>\n",
       "    </tr>\n",
       "    <tr>\n",
       "      <th>3</th>\n",
       "      <td>current</td>\n",
       "      <td>F</td>\n",
       "      <td>29</td>\n",
       "      <td>30489.50</td>\n",
       "      <td>1236.00</td>\n",
       "      <td>12609.88</td>\n",
       "      <td>9138.14</td>\n",
       "      <td>17521.000</td>\n",
       "      <td>13650.3</td>\n",
       "      <td>53</td>\n",
       "      <td>...</td>\n",
       "      <td>23</td>\n",
       "      <td>38</td>\n",
       "      <td>12607.0</td>\n",
       "      <td>69851.51</td>\n",
       "      <td>68708.0</td>\n",
       "      <td>21</td>\n",
       "      <td>83</td>\n",
       "      <td>43037.0</td>\n",
       "      <td>Y</td>\n",
       "      <td>3544.33</td>\n",
       "    </tr>\n",
       "    <tr>\n",
       "      <th>4</th>\n",
       "      <td>current</td>\n",
       "      <td>M</td>\n",
       "      <td>27</td>\n",
       "      <td>2328.22</td>\n",
       "      <td>1597.54</td>\n",
       "      <td>19979.75</td>\n",
       "      <td>1045.85</td>\n",
       "      <td>11686.255</td>\n",
       "      <td>628.0</td>\n",
       "      <td>6</td>\n",
       "      <td>...</td>\n",
       "      <td>43</td>\n",
       "      <td>2</td>\n",
       "      <td>21440.0</td>\n",
       "      <td>52292.68</td>\n",
       "      <td>199925.5</td>\n",
       "      <td>2</td>\n",
       "      <td>35</td>\n",
       "      <td>17284.0</td>\n",
       "      <td>Y</td>\n",
       "      <td>5026.50</td>\n",
       "    </tr>\n",
       "  </tbody>\n",
       "</table>\n",
       "<p>5 rows × 41 columns</p>\n",
       "</div>"
      ],
      "text/plain": [
       "  account_type gender  age  cc_cons_apr  dc_cons_apr  cc_cons_may  \\\n",
       "0      current      M   35     24893.00       378.00     10288.00   \n",
       "1      current      M   35     18941.62       966.00     20672.00   \n",
       "2      current      M   55      5678.87      2724.00      1964.50   \n",
       "3      current      F   29     30489.50      1236.00     12609.88   \n",
       "4      current      M   27      2328.22      1597.54     19979.75   \n",
       "\n",
       "   dc_cons_may  cc_cons_jun  dc_cons_jun  cc_count_apr  ...  credit_count_may  \\\n",
       "0     29664.00    16291.400      11432.0             2  ...                 2   \n",
       "1       287.00     4217.000        885.0             1  ...                 2   \n",
       "2      3933.11    23956.250       5168.0            43  ...                 2   \n",
       "3      9138.14    17521.000      13650.3            53  ...                23   \n",
       "4      1045.85    11686.255        628.0             6  ...                43   \n",
       "\n",
       "   debit_count_may  max_credit_amount_may  debit_amount_jun  \\\n",
       "0               40                24563.0          30051.32   \n",
       "1               78                23948.0          42119.05   \n",
       "2               82                10752.0          58373.25   \n",
       "3               38                12607.0          69851.51   \n",
       "4                2                21440.0          52292.68   \n",
       "\n",
       "   credit_amount_jun  credit_count_jun debit_count_jun max_credit_amount_jun  \\\n",
       "0            12761.0                 2              65               50836.0   \n",
       "1            76206.0                21              63               23226.0   \n",
       "2            75283.0                 7               1               27036.0   \n",
       "3            68708.0                21              83               43037.0   \n",
       "4           199925.5                 2              35               17284.0   \n",
       "\n",
       "  loan_enq emi_active  \n",
       "0        Y    1674.09  \n",
       "1        Y   13043.34  \n",
       "2        Y   25375.27  \n",
       "3        Y    3544.33  \n",
       "4        Y    5026.50  \n",
       "\n",
       "[5 rows x 41 columns]"
      ]
     },
     "execution_count": 43,
     "metadata": {},
     "output_type": "execute_result"
    }
   ],
   "source": [
    "# split df into x and y for train_test_split\n",
    "df_X=df.drop(columns=['cc_cons','region_code'])\n",
    "df_X.head()"
   ]
  },
  {
   "cell_type": "code",
   "execution_count": 44,
   "metadata": {},
   "outputs": [
    {
     "data": {
      "text/plain": [
       "0     20014\n",
       "1     10173\n",
       "2     16095\n",
       "3      7707\n",
       "4    130263\n",
       "Name: cc_cons, dtype: int64"
      ]
     },
     "execution_count": 44,
     "metadata": {},
     "output_type": "execute_result"
    }
   ],
   "source": [
    "df_Y=df['cc_cons']\n",
    "df_Y.head()"
   ]
  },
  {
   "cell_type": "code",
   "execution_count": 45,
   "metadata": {},
   "outputs": [],
   "source": [
    "# create calculated fields\n",
    "# Total dc and cc cons for 3 months\n",
    "df_X['cc_cons_sum']= df_X['cc_cons_apr'] + df_X['cc_cons_may'] + df_X['cc_cons_jun']\n",
    "df_X['dc_cons_sum']= df_X['dc_cons_apr']+ df_X['dc_cons_may'] + df_X['dc_cons_jun']\n",
    "# Total dc and cc count for 3 months\n",
    "df_X['cc_count_sum'] = df_X['cc_count_apr'] + df_X['cc_count_may'] + df_X['cc_count_jun']\n",
    "df_X['dc_count_sum'] = df_X['dc_count_apr'] + df_X['dc_count_may'] + df_X['dc_count_jun']\n",
    "# Total dc and cc cons average for 3 months\n",
    "df_X['cc_cons_avg'] = 0\n",
    "df_X.loc[df_X.cc_count_sum != 0,'cc_cons_avg'] = df_X.loc[df_X.cc_count_sum != 0,'cc_cons_sum']/df_X.loc[df_X.cc_count_sum != 0,'cc_count_sum']\n",
    "df_X['dc_cons_avg'] = 0\n",
    "df_X.loc[df_X.dc_count_sum != 0,'dc_cons_avg'] = df_X.loc[df_X.dc_count_sum != 0,'dc_cons_sum']/df_X.loc[df_X.dc_count_sum != 0,'dc_count_sum']\n",
    "# Average dc cons for each month\n",
    "df_X['dc_cons_apr_avg']= 0\n",
    "df_X.loc[df_X.dc_count_apr != 0,'dc_cons_apr_avg'] = df_X.loc[df_X.dc_count_apr != 0,'dc_cons_apr']/df_X.loc[df_X.dc_count_apr != 0,'dc_count_apr']\n",
    "df_X['dc_cons_may_avg'] = 0\n",
    "df_X.loc[df_X.dc_count_may != 0,'dc_cons_may_avg'] = df_X.loc[df_X.dc_count_may != 0,'dc_cons_may']/df_X.loc[df_X.dc_count_may != 0,'dc_count_may']\n",
    "df_X['dc_cons_jun_avg']= 0\n",
    "df_X.loc[df_X.dc_count_jun != 0,'dc_cons_jun_avg'] = df_X.loc[df_X.dc_count_jun != 0,'dc_cons_jun']/df_X.loc[df_X.dc_count_jun != 0,'dc_count_jun']\n",
    "# Average cc cons for each month\n",
    "df_X['cc_cons_apr_avg'] = 0\n",
    "df_X.loc[df_X.cc_count_apr != 0,'cc_cons_apr_avg'] = df_X.loc[df_X.cc_count_apr != 0,'cc_cons_apr']/df_X.loc[df_X.cc_count_apr != 0,'cc_count_apr']\n",
    "df_X['cc_cons_may_avg'] = 0\n",
    "df_X.loc[df_X.cc_count_may != 0,'cc_cons_may_avg'] = df_X.loc[df_X.cc_count_may != 0,'cc_cons_may']/df_X.loc[df_X.cc_count_may != 0,'cc_count_may']\n",
    "df_X['cc_cons_jun_avg'] = 0\n",
    "df_X.loc[df_X.cc_count_jun != 0,'cc_cons_jun_avg'] = df_X.loc[df_X.cc_count_jun != 0,'cc_cons_jun']/df_X.loc[df_X.cc_count_jun != 0,'cc_count_jun']"
   ]
  },
  {
   "cell_type": "code",
   "execution_count": 49,
   "metadata": {},
   "outputs": [],
   "source": [
    "# Total credit and debit amount for 3 months\n",
    "df_X['credit_amount_sum'] = df_X.credit_amount_apr + df_X.credit_amount_may + df_X.credit_amount_jun\n",
    "df_X['debit_amount_sum'] = df_X.debit_amount_apr + df_X.debit_amount_may + df_X.debit_amount_jun\n",
    "# Total credit and debit count for 3 months\n",
    "df_X['credit_count_sum'] = df_X.credit_count_apr + df_X.credit_count_may + df_X.credit_count_jun\n",
    "df_X['debit_count_sum'] = df_X.debit_count_apr + df_X.debit_count_may + df_X.debit_count_jun\n",
    "# Total credit and debit amount average for 3 months\n",
    "df_X['credit_amount_avg'] = 0\n",
    "df_X.loc[df_X.credit_count_sum != 0,'credit_amount_avg'] = df_X.loc[df_X.credit_count_sum != 0,'credit_amount_sum']/df_X.loc[df_X.credit_count_sum != 0,'credit_count_sum']\n",
    "df_X['debit_amount_avg'] = 0\n",
    "df_X.loc[df_X.debit_count_sum != 0,'debit_amount_avg'] = df_X.loc[df_X.debit_count_sum != 0,'debit_amount_sum']/df_X.loc[df_X.debit_count_sum != 0,'debit_count_sum']\n",
    "# average debit amount for each month\n",
    "df_X['debit_amount_apr_avg']= 0\n",
    "df_X.loc[df_X.debit_count_apr != 0,'debit_amount_apr_avg'] = df_X.loc[df_X.debit_count_apr != 0,'debit_amount_apr']/df_X.loc[df_X.debit_count_apr != 0,'debit_count_apr']\n",
    "df_X['debit_amount_may_avg'] = 0\n",
    "df_X.loc[df_X.debit_count_may != 0,'debit_amount_may_avg'] = df_X.loc[df_X.debit_count_may != 0,'debit_amount_may']/df_X.loc[df_X.debit_count_may != 0,'debit_count_may']\n",
    "df_X['debit_amount_jun_avg'] = 0\n",
    "df_X.loc[df_X.debit_count_jun != 0,'debit_amount_jun_avg'] = df_X.loc[df_X.debit_count_jun != 0,'debit_amount_jun']/df_X.loc[df_X.debit_count_jun != 0,'debit_count_jun']\n",
    "# average credit amount for each month\n",
    "df_X['credit_amount_apr_avg'] = 0\n",
    "df_X.loc[df_X.credit_count_apr != 0,'credit_amount_apr_avg'] = df_X.loc[df_X.credit_count_apr != 0,'credit_amount_apr']/df_X.loc[df_X.credit_count_apr != 0,'credit_count_apr']\n",
    "df_X['credit_amount_may_avg'] = 0\n",
    "df_X.loc[df_X.credit_count_may != 0,'credit_amount_may_avg'] = df_X.loc[df_X.credit_count_may != 0,'credit_amount_may']/df_X.loc[df_X.credit_count_may != 0,'credit_count_may']\n",
    "df_X['credit_amount_jun_avg'] = 0\n",
    "df_X.loc[df_X.credit_count_jun != 0,'credit_amount_jun_avg'] = df_X.loc[df_X.credit_count_jun != 0,'credit_amount_jun']/df_X.loc[df_X.credit_count_jun != 0,'credit_count_jun']"
   ]
  },
  {
   "cell_type": "code",
   "execution_count": 50,
   "metadata": {},
   "outputs": [],
   "source": [
    "# percentage credit amount per month\n",
    "df_X['perc_credit_amount_apr'] = 0\n",
    "df_X.loc[df_X.max_credit_amount_apr!= 0,'perc_credit_amount_apr'] = df_X.loc[df_X.max_credit_amount_apr!= 0,'credit_amount_apr']/df_X.loc[df_X.max_credit_amount_apr!= 0,'max_credit_amount_apr']\n",
    "df_X['perc_credit_amount_may'] = 0\n",
    "df_X.loc[df_X.max_credit_amount_may!= 0,'perc_credit_amount_may'] = df_X.loc[df_X.max_credit_amount_may!= 0,'credit_amount_may']/df_X.loc[df_X.max_credit_amount_may!= 0,'max_credit_amount_may']\n",
    "df_X['perc_credit_amount_jun'] = 0\n",
    "df_X.loc[df_X.max_credit_amount_jun!= 0,'perc_credit_amount_jun'] = df_X.loc[df_X.max_credit_amount_jun!= 0,'credit_amount_jun']/df_X.loc[df_X.max_credit_amount_jun!= 0,'max_credit_amount_jun']"
   ]
  },
  {
   "cell_type": "code",
   "execution_count": 51,
   "metadata": {},
   "outputs": [],
   "source": [
    "# proportion of debit and credit consumptions per month\n",
    "df_X['cc_cons_apr_prop'] = 0\n",
    "df_X.loc[df_X.cc_cons_sum!= 0,'cc_cons_apr_prop'] = df_X.loc[df_X.cc_cons_sum!= 0,'cc_cons_apr']/df_X.loc[df_X.cc_cons_sum != 0,'cc_cons_sum']\n",
    "df_X['cc_cons_may_prop'] = 0\n",
    "df_X.loc[df_X.cc_cons_sum != 0,'cc_cons_may_prop'] = df_X.loc[df_X.cc_cons_sum != 0,'cc_cons_may']/df_X.loc[df_X.cc_cons_sum != 0,'cc_cons_sum']\n",
    "df_X['cc_cons_jun_prop'] = 0\n",
    "df_X.loc[df_X.cc_cons_sum != 0,'cc_cons_jun_prop'] = df_X.loc[df_X.cc_cons_sum != 0,'cc_cons_jun']/df_X.loc[df_X.cc_cons_sum != 0,'cc_cons_sum']\n",
    "df_X['dc_cons_apr_prop'] = 0\n",
    "df_X.loc[df_X.dc_cons_sum != 0,'dc_cons_apr_prop'] = df_X.loc[df_X.dc_cons_sum != 0,'dc_cons_apr']/df_X.loc[df_X.dc_cons_sum != 0,'dc_cons_sum']\n",
    "df_X['dc_cons_may_prop'] = 0\n",
    "df_X.loc[df_X.dc_cons_sum != 0,'dc_cons_may_prop'] = df_X.loc[df_X.dc_cons_sum != 0,'dc_cons_may']/df_X.loc[df_X.dc_cons_sum != 0,'dc_cons_sum']\n",
    "df_X['dc_cons_jun_prop'] = 0\n",
    "df_X.loc[df_X.dc_cons_sum != 0,'dc_cons_jun_prop'] = df_X.loc[df_X.dc_cons_sum != 0,'dc_cons_jun']/df_X.loc[df_X.dc_cons_sum != 0,'dc_cons_sum']"
   ]
  },
  {
   "cell_type": "code",
   "execution_count": 52,
   "metadata": {},
   "outputs": [],
   "source": [
    "# proportion of debit and credit amounts per month\n",
    "df_X['credit_amount_apr_prop'] = 0\n",
    "df_X.loc[df_X.credit_amount_sum != 0,'credit_amount_apr_prop'] = df_X.loc[df_X.credit_amount_sum != 0,'credit_amount_apr']/df_X.loc[df_X.credit_amount_sum != 0,'credit_amount_sum']\n",
    "df_X['credit_amount_may_prop'] = 0\n",
    "df_X.loc[df_X.credit_amount_sum != 0,'credit_amount_may_prop'] = df_X.loc[df_X.credit_amount_sum != 0,'credit_amount_may']/df_X.loc[df_X.credit_amount_sum != 0,'credit_amount_sum']\n",
    "df_X['credit_amount_jun_prop'] = 0\n",
    "df_X.loc[df_X.credit_amount_sum != 0,'credit_amount_jun_prop'] = df_X.loc[df_X.credit_amount_sum != 0,'credit_amount_jun']/df_X.loc[df_X.credit_amount_sum != 0,'credit_amount_sum']\n",
    "df_X['debit_amount_apr_prop'] = 0\n",
    "df_X.loc[df_X.debit_amount_sum != 0,'debit_amount_apr_prop'] = df_X.loc[df_X.debit_amount_sum != 0,'debit_amount_apr']/df_X.loc[df_X.debit_amount_sum != 0,'debit_amount_sum']\n",
    "df_X['debit_amount_may_prop'] = 0\n",
    "df_X.loc[df_X.debit_amount_sum != 0,'debit_amount_may_prop'] = df_X.loc[df_X.debit_amount_sum != 0,'debit_amount_may']/df_X.loc[df_X.debit_amount_sum != 0,'debit_amount_sum']\n",
    "df_X['debit_amount_jun_prop'] = 0\n",
    "df_X.loc[df_X.debit_amount_sum != 0,'debit_amount_jun_prop'] = df_X.loc[df_X.debit_amount_sum != 0,'debit_amount_jun']/df_X.loc[df_X.debit_amount_sum != 0,'debit_amount_sum']"
   ]
  },
  {
   "cell_type": "code",
   "execution_count": null,
   "metadata": {},
   "outputs": [],
   "source": [
    "# debit by credit cons and amount ratios\n",
    "df_X['d_by_c_cons_ratio_apr'] = 0\n",
    "df_X.loc[df_X.cc_cons_apr != 0,'d_by_c_cons_ratio_apr'] = df_X.loc[df_X.cc_cons_apr != 0,'dc_cons_apr']/df_X.loc[df_X.cc_cons_apr != 0,'cc_cons_apr']\n",
    "df_X['d_by_c_cons_ratio_may'] = 0\n",
    "df_X.loc[df_X.cc_cons_may != 0,'d_by_c_cons_ratio_may'] = df_X.loc[df_X.cc_cons_may != 0,'dc_cons_may']/df_X.loc[df_X.cc_cons_may != 0,'cc_cons_may']\n",
    "df_X['d_by_c_cons_ratio_jun'] = 0\n",
    "df_X.loc[df_X.cc_cons_jun != 0,'d_by_c_cons_ratio_jun'] = df_X.loc[df_X.cc_cons_jun != 0,'dc_cons_jun']/df_X.loc[df_X.cc_cons_jun != 0,'cc_cons_jun']\n",
    "df_X['d_by_c_amount_ratio_apr'] = 0\n",
    "df_X.loc[df_X.credit_amount_apr != 0,'d_by_c_amount_ratio_apr'] = df_X.loc[df_X.credit_amount_apr != 0,'debit_amount_apr']/df_X.loc[df_X.credit_amount_apr != 0,'credit_amount_apr']\n",
    "df_X['d_by_c_amount_ratio_may'] = 0\n",
    "df_X.loc[df_X.credit_amount_may != 0,'d_by_c_amount_ratio_may'] = df_X.loc[df_X.credit_amount_may != 0,'debit_amount_may']/df_X.loc[df_X.credit_amount_may != 0,'credit_amount_may']\n",
    "df_X['d_by_c_amount_ratio_jun'] = 0\n",
    "df_X.loc[df_X.credit_amount_jun != 0,'d_by_c_amount_ratio_jun'] = df_X.loc[df_X.credit_amount_jun != 0,'debit_amount_jun']/df_X.loc[df_X.credit_amount_jun != 0,'credit_amount_jun']"
   ]
  },
  {
   "cell_type": "markdown",
   "metadata": {},
   "source": [
    "###### In the provided code snippet, the target variable cc_cons is being transformed using the natural logarithm (log) in order to directly optimize the Root Mean Squared Log Error (RMSLE) during model training. This transformation is commonly used when the target variable has a skewed distribution or a wide range of values, and the RMSLE metric is commonly used for evaluating models when dealing with such data."
   ]
  },
  {
   "cell_type": "code",
   "execution_count": 53,
   "metadata": {},
   "outputs": [],
   "source": [
    "# convert cc_cons to log to directly optimize RMSLE\n",
    "df_Y=np.log(df_Y+1)"
   ]
  },
  {
   "cell_type": "code",
   "execution_count": 54,
   "metadata": {},
   "outputs": [
    {
     "data": {
      "text/plain": [
       "0         9.904237\n",
       "1         9.227591\n",
       "2         9.686326\n",
       "3         8.950014\n",
       "4        11.777318\n",
       "           ...    \n",
       "14990     8.357963\n",
       "14991     9.307467\n",
       "14992    12.909734\n",
       "14993    10.268617\n",
       "14994     9.696033\n",
       "Name: cc_cons, Length: 14995, dtype: float64"
      ]
     },
     "execution_count": 54,
     "metadata": {},
     "output_type": "execute_result"
    }
   ],
   "source": [
    "df_Y"
   ]
  },
  {
   "cell_type": "code",
   "execution_count": 56,
   "metadata": {},
   "outputs": [
    {
     "data": {
      "text/plain": [
       "80"
      ]
     },
     "execution_count": 56,
     "metadata": {},
     "output_type": "execute_result"
    }
   ],
   "source": [
    "len(df_X.columns)"
   ]
  },
  {
   "cell_type": "code",
   "execution_count": 57,
   "metadata": {},
   "outputs": [
    {
     "data": {
      "text/plain": [
       "Index(['account_type', 'gender', 'age', 'cc_cons_apr', 'dc_cons_apr',\n",
       "       'cc_cons_may', 'dc_cons_may', 'cc_cons_jun', 'dc_cons_jun',\n",
       "       'cc_count_apr', 'cc_count_may', 'cc_count_jun', 'dc_count_apr',\n",
       "       'dc_count_may', 'dc_count_jun', 'card_lim', 'personal_loan_active',\n",
       "       'vehicle_loan_active', 'personal_loan_closed', 'vehicle_loan_closed',\n",
       "       'investment_1', 'investment_2', 'investment_3', 'investment_4',\n",
       "       'debit_amount_apr', 'credit_amount_apr', 'debit_count_apr',\n",
       "       'credit_count_apr', 'max_credit_amount_apr', 'debit_amount_may',\n",
       "       'credit_amount_may', 'credit_count_may', 'debit_count_may',\n",
       "       'max_credit_amount_may', 'debit_amount_jun', 'credit_amount_jun',\n",
       "       'credit_count_jun', 'debit_count_jun', 'max_credit_amount_jun',\n",
       "       'loan_enq', 'emi_active', 'cc_cons_sum', 'dc_cons_sum', 'cc_count_sum',\n",
       "       'dc_count_sum', 'cc_cons_avg', 'dc_cons_avg', 'dc_cons_apr_avg',\n",
       "       'dc_cons_may_avg', 'dc_cons_jun_avg', 'cc_cons_apr_avg',\n",
       "       'cc_cons_may_avg', 'cc_cons_jun_avg', 'credit_amount_sum',\n",
       "       'debit_amount_sum', 'credit_count_sum', 'debit_count_sum',\n",
       "       'credit_amount_avg', 'debit_amount_avg', 'debit_amount_apr_avg',\n",
       "       'debit_amount_may_avg', 'debit_amount_jun_avg', 'credit_amount_apr_avg',\n",
       "       'credit_amount_may_avg', 'credit_amount_jun_avg',\n",
       "       'perc_credit_amount_apr', 'perc_credit_amount_may',\n",
       "       'perc_credit_amount_jun', 'cc_cons_apr_prop', 'cc_cons_may_prop',\n",
       "       'cc_cons_jun_prop', 'dc_cons_apr_prop', 'dc_cons_may_prop',\n",
       "       'dc_cons_jun_prop', 'credit_amount_apr_prop', 'credit_amount_may_prop',\n",
       "       'credit_amount_jun_prop', 'debit_amount_apr_prop',\n",
       "       'debit_amount_may_prop', 'debit_amount_jun_prop'],\n",
       "      dtype='object')"
      ]
     },
     "execution_count": 57,
     "metadata": {},
     "output_type": "execute_result"
    }
   ],
   "source": [
    "df_X.columns"
   ]
  },
  {
   "cell_type": "markdown",
   "metadata": {},
   "source": [
    "### Train and Test Split"
   ]
  },
  {
   "cell_type": "code",
   "execution_count": 58,
   "metadata": {},
   "outputs": [],
   "source": [
    "# generate dummy values\n",
    "df_X=pd.get_dummies(df_X,drop_first=True)"
   ]
  },
  {
   "cell_type": "code",
   "execution_count": 61,
   "metadata": {},
   "outputs": [],
   "source": [
    "X_train,X_test,Y_train,Y_test=train_test_split(df_X,df_Y,test_size=0.25,random_state=33)"
   ]
  },
  {
   "cell_type": "markdown",
   "metadata": {},
   "source": [
    "### Modeling"
   ]
  },
  {
   "cell_type": "markdown",
   "metadata": {},
   "source": [
    "#### Linear Regression"
   ]
  },
  {
   "cell_type": "code",
   "execution_count": 67,
   "metadata": {},
   "outputs": [
    {
     "name": "stdout",
     "output_type": "stream",
     "text": [
      "train RMSLE: 160.82\n",
      "test RMSLE: 160.73\n"
     ]
    }
   ],
   "source": [
    "# linear regression with scikit learn\n",
    "lin_model=LinearRegression()\n",
    "lin_model.fit(X_train,Y_train)\n",
    "print('train RMSLE:',round(np.sqrt(mean_squared_error(Y_train,lin_model.predict(X_train)))*100,2))\n",
    "print('test RMSLE:',round(np.sqrt(mean_squared_error(Y_test,lin_model.predict(X_test)))*100,2));"
   ]
  },
  {
   "cell_type": "markdown",
   "metadata": {},
   "source": [
    "#### Decision Trees"
   ]
  },
  {
   "cell_type": "code",
   "execution_count": 72,
   "metadata": {},
   "outputs": [],
   "source": [
    "# hyper parameter tuning of decision tree with randomized search cv\n",
    "dec_model=DecisionTreeRegressor(random_state=33)\n",
    "param_grid=dict(max_depth=range(5,20),min_samples_split=range(50,200,10),min_samples_leaf=range(25,100,10),max_leaf_nodes=range(8,32,2),min_impurity_decrease=(0.3,1.0,0.1))\n",
    "grid=RandomizedSearchCV(dec_model,param_grid,scoring='neg_mean_squared_error',n_jobs=4,cv=5,random_state=33)\n",
    "grid.fit(X_train,Y_train);"
   ]
  },
  {
   "cell_type": "code",
   "execution_count": 73,
   "metadata": {},
   "outputs": [
    {
     "data": {
      "text/plain": [
       "{'min_samples_split': 120,\n",
       " 'min_samples_leaf': 55,\n",
       " 'min_impurity_decrease': 1.0,\n",
       " 'max_leaf_nodes': 18,\n",
       " 'max_depth': 10}"
      ]
     },
     "execution_count": 73,
     "metadata": {},
     "output_type": "execute_result"
    }
   ],
   "source": [
    "# get best parameters\n",
    "grid.best_params_"
   ]
  },
  {
   "cell_type": "code",
   "execution_count": 74,
   "metadata": {},
   "outputs": [
    {
     "name": "stdout",
     "output_type": "stream",
     "text": [
      "train RMSLE: 161.32\n",
      "test RMSLE: 160.43\n"
     ]
    }
   ],
   "source": [
    "# take the best model \n",
    "dec_model=grid.best_estimator_\n",
    "print('train RMSLE:',round(np.sqrt(mean_squared_error(Y_train,dec_model.predict(X_train)))*100,2))\n",
    "print('test RMSLE:',round(np.sqrt(mean_squared_error(Y_test,dec_model.predict(X_test)))*100,2));"
   ]
  },
  {
   "cell_type": "markdown",
   "metadata": {},
   "source": [
    "#### Neural Network"
   ]
  },
  {
   "cell_type": "code",
   "execution_count": 77,
   "metadata": {},
   "outputs": [
    {
     "name": "stderr",
     "output_type": "stream",
     "text": [
      "C:\\Users\\kimh1\\AppData\\Roaming\\Python\\Python311\\site-packages\\sklearn\\neural_network\\_multilayer_perceptron.py:691: ConvergenceWarning: Stochastic Optimizer: Maximum iterations (200) reached and the optimization hasn't converged yet.\n",
      "  warnings.warn(\n"
     ]
    }
   ],
   "source": [
    "# hyper parameter tuning of neural networks with randomized search cv\n",
    "neu_model=MLPRegressor(learning_rate_init=0.01,learning_rate='adaptive',activation='relu',random_state=33)\n",
    "param_grid={'hidden_layer_sizes':[(100,100,100),(100,75,50,25)],'alpha':range(1,10,1)}\n",
    "grid=RandomizedSearchCV(neu_model,param_grid,scoring='neg_mean_squared_error',cv=5,n_jobs=-1,random_state=33)\n",
    "grid.fit(X_train,Y_train);"
   ]
  },
  {
   "cell_type": "code",
   "execution_count": 78,
   "metadata": {},
   "outputs": [
    {
     "name": "stdout",
     "output_type": "stream",
     "text": [
      "{'hidden_layer_sizes': (100, 75, 50, 25), 'alpha': 6}\n"
     ]
    }
   ],
   "source": [
    "# get best parameters\n",
    "print(grid.best_params_)"
   ]
  },
  {
   "cell_type": "code",
   "execution_count": 79,
   "metadata": {},
   "outputs": [
    {
     "name": "stdout",
     "output_type": "stream",
     "text": [
      "train RMSLE: 162.99\n",
      "test RMSLE: 162.5\n"
     ]
    }
   ],
   "source": [
    "# take the best model \n",
    "neu_model=grid.best_estimator_\n",
    "print('train RMSLE:',round(np.sqrt(mean_squared_error(Y_train,neu_model.predict(X_train)))*100,2))\n",
    "print('test RMSLE:',round(np.sqrt(mean_squared_error(Y_test,neu_model.predict(X_test)))*100,2));"
   ]
  },
  {
   "cell_type": "markdown",
   "metadata": {},
   "source": [
    "#### Random Forest"
   ]
  },
  {
   "cell_type": "code",
   "execution_count": 82,
   "metadata": {},
   "outputs": [],
   "source": [
    "# hyper parameter tuning of random forest with randomized search cv\n",
    "rf_model=RandomForestRegressor(random_state=33)\n",
    "param_grid=dict(n_estimators=range(10,100,10),max_depth=range(3,20),min_samples_split=range(50,500,20),min_samples_leaf=range(25,75,10),max_leaf_nodes=range(8,32,2))\n",
    "grid=RandomizedSearchCV(rf_model,param_grid,scoring='neg_mean_squared_error',n_jobs=-1,cv=5,random_state=33)\n",
    "grid.fit(X_train,Y_train);"
   ]
  },
  {
   "cell_type": "code",
   "execution_count": 83,
   "metadata": {},
   "outputs": [
    {
     "name": "stdout",
     "output_type": "stream",
     "text": [
      "{'n_estimators': 30, 'min_samples_split': 270, 'min_samples_leaf': 55, 'max_leaf_nodes': 26, 'max_depth': 5}\n"
     ]
    }
   ],
   "source": [
    "# get best score and parameters\n",
    "grid.best_score_\n",
    "print(grid.best_params_)"
   ]
  },
  {
   "cell_type": "code",
   "execution_count": 84,
   "metadata": {},
   "outputs": [
    {
     "name": "stdout",
     "output_type": "stream",
     "text": [
      "train RMSLE: 159.4\n",
      "test RMSLE: 160.4\n"
     ]
    }
   ],
   "source": [
    "# take the best model \n",
    "rf_model=grid.best_estimator_\n",
    "print('train RMSLE:',round(np.sqrt(mean_squared_error(Y_train,rf_model.predict(X_train)))*100,2))\n",
    "print('test RMSLE:',round(np.sqrt(mean_squared_error(Y_test,rf_model.predict(X_test)))*100,2));"
   ]
  },
  {
   "cell_type": "markdown",
   "metadata": {},
   "source": [
    "#### KNN"
   ]
  },
  {
   "cell_type": "code",
   "execution_count": 87,
   "metadata": {},
   "outputs": [],
   "source": [
    "knn_model=KNeighborsRegressor(n_neighbors=5,weights='distance',algorithm='ball_tree',metric='minkowski',n_jobs=-1)\n",
    "knn_model.fit(X_train,Y_train);"
   ]
  },
  {
   "cell_type": "code",
   "execution_count": 88,
   "metadata": {},
   "outputs": [
    {
     "name": "stdout",
     "output_type": "stream",
     "text": [
      "train RMSLE: 0.0\n",
      "test RMSLE: 176.65\n"
     ]
    }
   ],
   "source": [
    "print('train RMSLE:',round(np.sqrt(mean_squared_error(Y_train,knn_model.predict(X_train)))*100,2))\n",
    "print('test RMSLE:',round(np.sqrt(mean_squared_error(Y_test,knn_model.predict(X_test)))*100,2));"
   ]
  },
  {
   "cell_type": "markdown",
   "metadata": {},
   "source": [
    "#### XGBoost"
   ]
  },
  {
   "cell_type": "code",
   "execution_count": 91,
   "metadata": {},
   "outputs": [],
   "source": [
    "# hyper parameter tuning of xgboost with randomized search cv\n",
    "xgb_model=XGBRegressor(objective='reg:squarederror',n_jobs=-1)\n",
    "param_grid={'max_depth':range(5,15,3),'learning_rate':np.arange(0.01,0.3,0.01),'n_estimators':range(100,200,10),'min_child_weight':range(1,15,2),'reg_lambda':range(0,5,1),'subsample':np.arange(60,110,10)/100,'colsample_bylevel':np.arange(60,110,10)/100,'colsample_bytree':np.arange(60,110,10)/100,'colsample_bynode':np.arange(60,110,10)/100,'scale_pos_weight':np.arange(1,15,1)}\n",
    "grid=RandomizedSearchCV(xgb_model,param_grid,scoring='neg_mean_squared_error',cv=5,random_state=33)\n",
    "grid.fit(X_train,Y_train);"
   ]
  },
  {
   "cell_type": "code",
   "execution_count": 92,
   "metadata": {},
   "outputs": [
    {
     "name": "stdout",
     "output_type": "stream",
     "text": [
      "{'subsample': 0.8, 'scale_pos_weight': 1, 'reg_lambda': 3, 'n_estimators': 110, 'min_child_weight': 9, 'max_depth': 5, 'learning_rate': 0.09999999999999999, 'colsample_bytree': 1.0, 'colsample_bynode': 0.6, 'colsample_bylevel': 0.8}\n"
     ]
    }
   ],
   "source": [
    "# get best score and parameters\n",
    "print(grid.best_params_)"
   ]
  },
  {
   "cell_type": "code",
   "execution_count": 93,
   "metadata": {},
   "outputs": [
    {
     "name": "stdout",
     "output_type": "stream",
     "text": [
      "train RMSLE: 141.11\n",
      "test RMSLE: 162.52\n"
     ]
    }
   ],
   "source": [
    "# take the best model \n",
    "xgb_model=grid.best_estimator_\n",
    "print('train RMSLE:',round(np.sqrt(mean_squared_error(Y_train,xgb_model.predict(X_train)))*100,2))\n",
    "print('test RMSLE:',round(np.sqrt(mean_squared_error(Y_test,xgb_model.predict(X_test)))*100,2))"
   ]
  },
  {
   "cell_type": "markdown",
   "metadata": {},
   "source": [
    "#### Train on Entire Data"
   ]
  },
  {
   "cell_type": "code",
   "execution_count": 94,
   "metadata": {},
   "outputs": [
    {
     "name": "stdout",
     "output_type": "stream",
     "text": [
      "Overall RMSLE: 158.06\n"
     ]
    }
   ],
   "source": [
    "# Random Forest\n",
    "rf_model=RandomForestRegressor(random_state=33,n_estimators= 50, min_samples_split= 190, min_samples_leaf= 35, max_leaf_nodes= 26, max_depth= 14)\n",
    "rf_model.fit(df_X,df_Y)\n",
    "print('Overall RMSLE:',round(np.sqrt(mean_squared_error(df_Y,rf_model.predict(df_X)))*100,2));"
   ]
  },
  {
   "cell_type": "code",
   "execution_count": 95,
   "metadata": {},
   "outputs": [
    {
     "name": "stdout",
     "output_type": "stream",
     "text": [
      "Overall RMSLE: 144.33\n"
     ]
    }
   ],
   "source": [
    "xgb_model=XGBRegressor(objective='reg:squarederror',subsample= 0.8, scale_pos_weight= 1, reg_lambda= 3, n_estimators= 110, min_child_weight= 9, max_depth= 5, learning_rate= 0.1, colsample_bytree= 1.0,colsample_bynode=0.6,colsample_bylevel=0.8,n_jobs=-1)\n",
    "xgb_model.fit(df_X,df_Y)\n",
    "print('Overall RMSLE:',round(np.sqrt(mean_squared_error(df_Y,xgb_model.predict(df_X)))*100,2));"
   ]
  },
  {
   "cell_type": "markdown",
   "metadata": {},
   "source": [
    "#### Model Stacking"
   ]
  },
  {
   "cell_type": "code",
   "execution_count": 101,
   "metadata": {},
   "outputs": [
    {
     "name": "stdout",
     "output_type": "stream",
     "text": [
      "3-fold cross validation:\n",
      "\n",
      "Accuracy: 161.22 (+/- 1.76) [Random Forest]\n",
      "Accuracy: 162.90 (+/- 2.06) [XGBoost]\n"
     ]
    },
    {
     "name": "stderr",
     "output_type": "stream",
     "text": [
      "C:\\Users\\kimh1\\AppData\\Roaming\\Python\\Python311\\site-packages\\sklearn\\model_selection\\_validation.py:842: UserWarning: Scoring failed. The score on this train-test partition for these parameters will be set to nan. Details: \n",
      "Traceback (most recent call last):\n",
      "  File \"C:\\Users\\kimh1\\AppData\\Roaming\\Python\\Python311\\site-packages\\sklearn\\metrics\\_scorer.py\", line 136, in __call__\n",
      "    score = scorer._score(\n",
      "            ^^^^^^^^^^^^^^\n",
      "  File \"C:\\Users\\kimh1\\AppData\\Roaming\\Python\\Python311\\site-packages\\sklearn\\metrics\\_scorer.py\", line 353, in _score\n",
      "    y_pred = method_caller(estimator, \"predict\", X)\n",
      "             ^^^^^^^^^^^^^^^^^^^^^^^^^^^^^^^^^^^^^^\n",
      "  File \"C:\\Users\\kimh1\\AppData\\Roaming\\Python\\Python311\\site-packages\\sklearn\\metrics\\_scorer.py\", line 86, in _cached_call\n",
      "    result, _ = _get_response_values(\n",
      "                ^^^^^^^^^^^^^^^^^^^^^\n",
      "  File \"C:\\Users\\kimh1\\AppData\\Roaming\\Python\\Python311\\site-packages\\sklearn\\utils\\_response.py\", line 74, in _get_response_values\n",
      "    classes = estimator.classes_\n",
      "              ^^^^^^^^^^^^^^^^^^\n",
      "AttributeError: 'StackingCVClassifier' object has no attribute 'classes_'\n",
      "\n",
      "  warnings.warn(\n",
      "C:\\Users\\kimh1\\AppData\\Roaming\\Python\\Python311\\site-packages\\sklearn\\model_selection\\_validation.py:842: UserWarning: Scoring failed. The score on this train-test partition for these parameters will be set to nan. Details: \n",
      "Traceback (most recent call last):\n",
      "  File \"C:\\Users\\kimh1\\AppData\\Roaming\\Python\\Python311\\site-packages\\sklearn\\metrics\\_scorer.py\", line 136, in __call__\n",
      "    score = scorer._score(\n",
      "            ^^^^^^^^^^^^^^\n",
      "  File \"C:\\Users\\kimh1\\AppData\\Roaming\\Python\\Python311\\site-packages\\sklearn\\metrics\\_scorer.py\", line 353, in _score\n",
      "    y_pred = method_caller(estimator, \"predict\", X)\n",
      "             ^^^^^^^^^^^^^^^^^^^^^^^^^^^^^^^^^^^^^^\n",
      "  File \"C:\\Users\\kimh1\\AppData\\Roaming\\Python\\Python311\\site-packages\\sklearn\\metrics\\_scorer.py\", line 86, in _cached_call\n",
      "    result, _ = _get_response_values(\n",
      "                ^^^^^^^^^^^^^^^^^^^^^\n",
      "  File \"C:\\Users\\kimh1\\AppData\\Roaming\\Python\\Python311\\site-packages\\sklearn\\utils\\_response.py\", line 74, in _get_response_values\n",
      "    classes = estimator.classes_\n",
      "              ^^^^^^^^^^^^^^^^^^\n",
      "AttributeError: 'StackingCVClassifier' object has no attribute 'classes_'\n",
      "\n",
      "  warnings.warn(\n",
      "C:\\Users\\kimh1\\AppData\\Roaming\\Python\\Python311\\site-packages\\sklearn\\model_selection\\_validation.py:842: UserWarning: Scoring failed. The score on this train-test partition for these parameters will be set to nan. Details: \n",
      "Traceback (most recent call last):\n",
      "  File \"C:\\Users\\kimh1\\AppData\\Roaming\\Python\\Python311\\site-packages\\sklearn\\metrics\\_scorer.py\", line 136, in __call__\n",
      "    score = scorer._score(\n",
      "            ^^^^^^^^^^^^^^\n",
      "  File \"C:\\Users\\kimh1\\AppData\\Roaming\\Python\\Python311\\site-packages\\sklearn\\metrics\\_scorer.py\", line 353, in _score\n",
      "    y_pred = method_caller(estimator, \"predict\", X)\n",
      "             ^^^^^^^^^^^^^^^^^^^^^^^^^^^^^^^^^^^^^^\n",
      "  File \"C:\\Users\\kimh1\\AppData\\Roaming\\Python\\Python311\\site-packages\\sklearn\\metrics\\_scorer.py\", line 86, in _cached_call\n",
      "    result, _ = _get_response_values(\n",
      "                ^^^^^^^^^^^^^^^^^^^^^\n",
      "  File \"C:\\Users\\kimh1\\AppData\\Roaming\\Python\\Python311\\site-packages\\sklearn\\utils\\_response.py\", line 74, in _get_response_values\n",
      "    classes = estimator.classes_\n",
      "              ^^^^^^^^^^^^^^^^^^\n",
      "AttributeError: 'StackingCVClassifier' object has no attribute 'classes_'\n",
      "\n",
      "  warnings.warn(\n",
      "C:\\Users\\kimh1\\AppData\\Roaming\\Python\\Python311\\site-packages\\sklearn\\model_selection\\_validation.py:842: UserWarning: Scoring failed. The score on this train-test partition for these parameters will be set to nan. Details: \n",
      "Traceback (most recent call last):\n",
      "  File \"C:\\Users\\kimh1\\AppData\\Roaming\\Python\\Python311\\site-packages\\sklearn\\metrics\\_scorer.py\", line 136, in __call__\n",
      "    score = scorer._score(\n",
      "            ^^^^^^^^^^^^^^\n",
      "  File \"C:\\Users\\kimh1\\AppData\\Roaming\\Python\\Python311\\site-packages\\sklearn\\metrics\\_scorer.py\", line 353, in _score\n",
      "    y_pred = method_caller(estimator, \"predict\", X)\n",
      "             ^^^^^^^^^^^^^^^^^^^^^^^^^^^^^^^^^^^^^^\n",
      "  File \"C:\\Users\\kimh1\\AppData\\Roaming\\Python\\Python311\\site-packages\\sklearn\\metrics\\_scorer.py\", line 86, in _cached_call\n",
      "    result, _ = _get_response_values(\n",
      "                ^^^^^^^^^^^^^^^^^^^^^\n",
      "  File \"C:\\Users\\kimh1\\AppData\\Roaming\\Python\\Python311\\site-packages\\sklearn\\utils\\_response.py\", line 74, in _get_response_values\n",
      "    classes = estimator.classes_\n",
      "              ^^^^^^^^^^^^^^^^^^\n",
      "AttributeError: 'StackingCVClassifier' object has no attribute 'classes_'\n",
      "\n",
      "  warnings.warn(\n"
     ]
    },
    {
     "ename": "KeyboardInterrupt",
     "evalue": "",
     "output_type": "error",
     "traceback": [
      "\u001b[1;31m---------------------------------------------------------------------------\u001b[0m",
      "\u001b[1;31mKeyboardInterrupt\u001b[0m                         Traceback (most recent call last)",
      "Cell \u001b[1;32mIn[101], line 5\u001b[0m\n\u001b[0;32m      3\u001b[0m \u001b[39mprint\u001b[39m(\u001b[39m'\u001b[39m\u001b[39m3-fold cross validation:\u001b[39m\u001b[39m\\n\u001b[39;00m\u001b[39m'\u001b[39m)\n\u001b[0;32m      4\u001b[0m \u001b[39mfor\u001b[39;00m clf, label \u001b[39min\u001b[39;00m \u001b[39mzip\u001b[39m([rf_model,xgb_model,sclf],[\u001b[39m'\u001b[39m\u001b[39mRandom Forest\u001b[39m\u001b[39m'\u001b[39m,\u001b[39m'\u001b[39m\u001b[39mXGBoost\u001b[39m\u001b[39m'\u001b[39m,\u001b[39m'\u001b[39m\u001b[39mStackingClassifier\u001b[39m\u001b[39m'\u001b[39m]):\n\u001b[1;32m----> 5\u001b[0m     scores \u001b[39m=\u001b[39m np\u001b[39m.\u001b[39msqrt(\u001b[39m-\u001b[39m\u001b[39m1\u001b[39m\u001b[39m*\u001b[39mcross_val_score(clf, df_X\u001b[39m.\u001b[39;49mvalues,df_Y\u001b[39m.\u001b[39;49mvalues,cv\u001b[39m=\u001b[39;49m\u001b[39m5\u001b[39;49m, scoring\u001b[39m=\u001b[39;49m\u001b[39m'\u001b[39;49m\u001b[39mneg_mean_squared_error\u001b[39;49m\u001b[39m'\u001b[39;49m))\u001b[39m*\u001b[39m\u001b[39m100\u001b[39m\n\u001b[0;32m      6\u001b[0m     \u001b[39mprint\u001b[39m(\u001b[39m\"\u001b[39m\u001b[39mAccuracy: \u001b[39m\u001b[39m%0.2f\u001b[39;00m\u001b[39m (+/- \u001b[39m\u001b[39m%0.2f\u001b[39;00m\u001b[39m) [\u001b[39m\u001b[39m%s\u001b[39;00m\u001b[39m]\u001b[39m\u001b[39m\"\u001b[39m\u001b[39m%\u001b[39m(scores\u001b[39m.\u001b[39mmean(), scores\u001b[39m.\u001b[39mstd(),label))\n",
      "File \u001b[1;32m~\\AppData\\Roaming\\Python\\Python311\\site-packages\\sklearn\\model_selection\\_validation.py:562\u001b[0m, in \u001b[0;36mcross_val_score\u001b[1;34m(estimator, X, y, groups, scoring, cv, n_jobs, verbose, fit_params, pre_dispatch, error_score)\u001b[0m\n\u001b[0;32m    559\u001b[0m \u001b[39m# To ensure multimetric format is not supported\u001b[39;00m\n\u001b[0;32m    560\u001b[0m scorer \u001b[39m=\u001b[39m check_scoring(estimator, scoring\u001b[39m=\u001b[39mscoring)\n\u001b[1;32m--> 562\u001b[0m cv_results \u001b[39m=\u001b[39m cross_validate(\n\u001b[0;32m    563\u001b[0m     estimator\u001b[39m=\u001b[39;49mestimator,\n\u001b[0;32m    564\u001b[0m     X\u001b[39m=\u001b[39;49mX,\n\u001b[0;32m    565\u001b[0m     y\u001b[39m=\u001b[39;49my,\n\u001b[0;32m    566\u001b[0m     groups\u001b[39m=\u001b[39;49mgroups,\n\u001b[0;32m    567\u001b[0m     scoring\u001b[39m=\u001b[39;49m{\u001b[39m\"\u001b[39;49m\u001b[39mscore\u001b[39;49m\u001b[39m\"\u001b[39;49m: scorer},\n\u001b[0;32m    568\u001b[0m     cv\u001b[39m=\u001b[39;49mcv,\n\u001b[0;32m    569\u001b[0m     n_jobs\u001b[39m=\u001b[39;49mn_jobs,\n\u001b[0;32m    570\u001b[0m     verbose\u001b[39m=\u001b[39;49mverbose,\n\u001b[0;32m    571\u001b[0m     fit_params\u001b[39m=\u001b[39;49mfit_params,\n\u001b[0;32m    572\u001b[0m     pre_dispatch\u001b[39m=\u001b[39;49mpre_dispatch,\n\u001b[0;32m    573\u001b[0m     error_score\u001b[39m=\u001b[39;49merror_score,\n\u001b[0;32m    574\u001b[0m )\n\u001b[0;32m    575\u001b[0m \u001b[39mreturn\u001b[39;00m cv_results[\u001b[39m\"\u001b[39m\u001b[39mtest_score\u001b[39m\u001b[39m\"\u001b[39m]\n",
      "File \u001b[1;32m~\\AppData\\Roaming\\Python\\Python311\\site-packages\\sklearn\\utils\\_param_validation.py:211\u001b[0m, in \u001b[0;36mvalidate_params.<locals>.decorator.<locals>.wrapper\u001b[1;34m(*args, **kwargs)\u001b[0m\n\u001b[0;32m    205\u001b[0m \u001b[39mtry\u001b[39;00m:\n\u001b[0;32m    206\u001b[0m     \u001b[39mwith\u001b[39;00m config_context(\n\u001b[0;32m    207\u001b[0m         skip_parameter_validation\u001b[39m=\u001b[39m(\n\u001b[0;32m    208\u001b[0m             prefer_skip_nested_validation \u001b[39mor\u001b[39;00m global_skip_validation\n\u001b[0;32m    209\u001b[0m         )\n\u001b[0;32m    210\u001b[0m     ):\n\u001b[1;32m--> 211\u001b[0m         \u001b[39mreturn\u001b[39;00m func(\u001b[39m*\u001b[39;49margs, \u001b[39m*\u001b[39;49m\u001b[39m*\u001b[39;49mkwargs)\n\u001b[0;32m    212\u001b[0m \u001b[39mexcept\u001b[39;00m InvalidParameterError \u001b[39mas\u001b[39;00m e:\n\u001b[0;32m    213\u001b[0m     \u001b[39m# When the function is just a wrapper around an estimator, we allow\u001b[39;00m\n\u001b[0;32m    214\u001b[0m     \u001b[39m# the function to delegate validation to the estimator, but we replace\u001b[39;00m\n\u001b[0;32m    215\u001b[0m     \u001b[39m# the name of the estimator by the name of the function in the error\u001b[39;00m\n\u001b[0;32m    216\u001b[0m     \u001b[39m# message to avoid confusion.\u001b[39;00m\n\u001b[0;32m    217\u001b[0m     msg \u001b[39m=\u001b[39m re\u001b[39m.\u001b[39msub(\n\u001b[0;32m    218\u001b[0m         \u001b[39mr\u001b[39m\u001b[39m\"\u001b[39m\u001b[39mparameter of \u001b[39m\u001b[39m\\\u001b[39m\u001b[39mw+ must be\u001b[39m\u001b[39m\"\u001b[39m,\n\u001b[0;32m    219\u001b[0m         \u001b[39mf\u001b[39m\u001b[39m\"\u001b[39m\u001b[39mparameter of \u001b[39m\u001b[39m{\u001b[39;00mfunc\u001b[39m.\u001b[39m\u001b[39m__qualname__\u001b[39m\u001b[39m}\u001b[39;00m\u001b[39m must be\u001b[39m\u001b[39m\"\u001b[39m,\n\u001b[0;32m    220\u001b[0m         \u001b[39mstr\u001b[39m(e),\n\u001b[0;32m    221\u001b[0m     )\n",
      "File \u001b[1;32m~\\AppData\\Roaming\\Python\\Python311\\site-packages\\sklearn\\model_selection\\_validation.py:309\u001b[0m, in \u001b[0;36mcross_validate\u001b[1;34m(estimator, X, y, groups, scoring, cv, n_jobs, verbose, fit_params, pre_dispatch, return_train_score, return_estimator, return_indices, error_score)\u001b[0m\n\u001b[0;32m    306\u001b[0m \u001b[39m# We clone the estimator to make sure that all the folds are\u001b[39;00m\n\u001b[0;32m    307\u001b[0m \u001b[39m# independent, and that it is pickle-able.\u001b[39;00m\n\u001b[0;32m    308\u001b[0m parallel \u001b[39m=\u001b[39m Parallel(n_jobs\u001b[39m=\u001b[39mn_jobs, verbose\u001b[39m=\u001b[39mverbose, pre_dispatch\u001b[39m=\u001b[39mpre_dispatch)\n\u001b[1;32m--> 309\u001b[0m results \u001b[39m=\u001b[39m parallel(\n\u001b[0;32m    310\u001b[0m     delayed(_fit_and_score)(\n\u001b[0;32m    311\u001b[0m         clone(estimator),\n\u001b[0;32m    312\u001b[0m         X,\n\u001b[0;32m    313\u001b[0m         y,\n\u001b[0;32m    314\u001b[0m         scorers,\n\u001b[0;32m    315\u001b[0m         train,\n\u001b[0;32m    316\u001b[0m         test,\n\u001b[0;32m    317\u001b[0m         verbose,\n\u001b[0;32m    318\u001b[0m         \u001b[39mNone\u001b[39;49;00m,\n\u001b[0;32m    319\u001b[0m         fit_params,\n\u001b[0;32m    320\u001b[0m         return_train_score\u001b[39m=\u001b[39;49mreturn_train_score,\n\u001b[0;32m    321\u001b[0m         return_times\u001b[39m=\u001b[39;49m\u001b[39mTrue\u001b[39;49;00m,\n\u001b[0;32m    322\u001b[0m         return_estimator\u001b[39m=\u001b[39;49mreturn_estimator,\n\u001b[0;32m    323\u001b[0m         error_score\u001b[39m=\u001b[39;49merror_score,\n\u001b[0;32m    324\u001b[0m     )\n\u001b[0;32m    325\u001b[0m     \u001b[39mfor\u001b[39;49;00m train, test \u001b[39min\u001b[39;49;00m indices\n\u001b[0;32m    326\u001b[0m )\n\u001b[0;32m    328\u001b[0m _warn_or_raise_about_fit_failures(results, error_score)\n\u001b[0;32m    330\u001b[0m \u001b[39m# For callable scoring, the return type is only know after calling. If the\u001b[39;00m\n\u001b[0;32m    331\u001b[0m \u001b[39m# return type is a dictionary, the error scores can now be inserted with\u001b[39;00m\n\u001b[0;32m    332\u001b[0m \u001b[39m# the correct key.\u001b[39;00m\n",
      "File \u001b[1;32m~\\AppData\\Roaming\\Python\\Python311\\site-packages\\sklearn\\utils\\parallel.py:65\u001b[0m, in \u001b[0;36mParallel.__call__\u001b[1;34m(self, iterable)\u001b[0m\n\u001b[0;32m     60\u001b[0m config \u001b[39m=\u001b[39m get_config()\n\u001b[0;32m     61\u001b[0m iterable_with_config \u001b[39m=\u001b[39m (\n\u001b[0;32m     62\u001b[0m     (_with_config(delayed_func, config), args, kwargs)\n\u001b[0;32m     63\u001b[0m     \u001b[39mfor\u001b[39;00m delayed_func, args, kwargs \u001b[39min\u001b[39;00m iterable\n\u001b[0;32m     64\u001b[0m )\n\u001b[1;32m---> 65\u001b[0m \u001b[39mreturn\u001b[39;00m \u001b[39msuper\u001b[39;49m()\u001b[39m.\u001b[39;49m\u001b[39m__call__\u001b[39;49m(iterable_with_config)\n",
      "File \u001b[1;32m~\\AppData\\Roaming\\Python\\Python311\\site-packages\\joblib\\parallel.py:1855\u001b[0m, in \u001b[0;36mParallel.__call__\u001b[1;34m(self, iterable)\u001b[0m\n\u001b[0;32m   1853\u001b[0m     output \u001b[39m=\u001b[39m \u001b[39mself\u001b[39m\u001b[39m.\u001b[39m_get_sequential_output(iterable)\n\u001b[0;32m   1854\u001b[0m     \u001b[39mnext\u001b[39m(output)\n\u001b[1;32m-> 1855\u001b[0m     \u001b[39mreturn\u001b[39;00m output \u001b[39mif\u001b[39;00m \u001b[39mself\u001b[39m\u001b[39m.\u001b[39mreturn_generator \u001b[39melse\u001b[39;00m \u001b[39mlist\u001b[39m(output)\n\u001b[0;32m   1857\u001b[0m \u001b[39m# Let's create an ID that uniquely identifies the current call. If the\u001b[39;00m\n\u001b[0;32m   1858\u001b[0m \u001b[39m# call is interrupted early and that the same instance is immediately\u001b[39;00m\n\u001b[0;32m   1859\u001b[0m \u001b[39m# re-used, this id will be used to prevent workers that were\u001b[39;00m\n\u001b[0;32m   1860\u001b[0m \u001b[39m# concurrently finalizing a task from the previous call to run the\u001b[39;00m\n\u001b[0;32m   1861\u001b[0m \u001b[39m# callback.\u001b[39;00m\n\u001b[0;32m   1862\u001b[0m \u001b[39mwith\u001b[39;00m \u001b[39mself\u001b[39m\u001b[39m.\u001b[39m_lock:\n",
      "File \u001b[1;32m~\\AppData\\Roaming\\Python\\Python311\\site-packages\\joblib\\parallel.py:1784\u001b[0m, in \u001b[0;36mParallel._get_sequential_output\u001b[1;34m(self, iterable)\u001b[0m\n\u001b[0;32m   1782\u001b[0m \u001b[39mself\u001b[39m\u001b[39m.\u001b[39mn_dispatched_batches \u001b[39m+\u001b[39m\u001b[39m=\u001b[39m \u001b[39m1\u001b[39m\n\u001b[0;32m   1783\u001b[0m \u001b[39mself\u001b[39m\u001b[39m.\u001b[39mn_dispatched_tasks \u001b[39m+\u001b[39m\u001b[39m=\u001b[39m \u001b[39m1\u001b[39m\n\u001b[1;32m-> 1784\u001b[0m res \u001b[39m=\u001b[39m func(\u001b[39m*\u001b[39;49margs, \u001b[39m*\u001b[39;49m\u001b[39m*\u001b[39;49mkwargs)\n\u001b[0;32m   1785\u001b[0m \u001b[39mself\u001b[39m\u001b[39m.\u001b[39mn_completed_tasks \u001b[39m+\u001b[39m\u001b[39m=\u001b[39m \u001b[39m1\u001b[39m\n\u001b[0;32m   1786\u001b[0m \u001b[39mself\u001b[39m\u001b[39m.\u001b[39mprint_progress()\n",
      "File \u001b[1;32m~\\AppData\\Roaming\\Python\\Python311\\site-packages\\sklearn\\utils\\parallel.py:127\u001b[0m, in \u001b[0;36m_FuncWrapper.__call__\u001b[1;34m(self, *args, **kwargs)\u001b[0m\n\u001b[0;32m    125\u001b[0m     config \u001b[39m=\u001b[39m {}\n\u001b[0;32m    126\u001b[0m \u001b[39mwith\u001b[39;00m config_context(\u001b[39m*\u001b[39m\u001b[39m*\u001b[39mconfig):\n\u001b[1;32m--> 127\u001b[0m     \u001b[39mreturn\u001b[39;00m \u001b[39mself\u001b[39;49m\u001b[39m.\u001b[39;49mfunction(\u001b[39m*\u001b[39;49margs, \u001b[39m*\u001b[39;49m\u001b[39m*\u001b[39;49mkwargs)\n",
      "File \u001b[1;32m~\\AppData\\Roaming\\Python\\Python311\\site-packages\\sklearn\\model_selection\\_validation.py:732\u001b[0m, in \u001b[0;36m_fit_and_score\u001b[1;34m(estimator, X, y, scorer, train, test, verbose, parameters, fit_params, return_train_score, return_parameters, return_n_test_samples, return_times, return_estimator, split_progress, candidate_progress, error_score)\u001b[0m\n\u001b[0;32m    730\u001b[0m         estimator\u001b[39m.\u001b[39mfit(X_train, \u001b[39m*\u001b[39m\u001b[39m*\u001b[39mfit_params)\n\u001b[0;32m    731\u001b[0m     \u001b[39melse\u001b[39;00m:\n\u001b[1;32m--> 732\u001b[0m         estimator\u001b[39m.\u001b[39;49mfit(X_train, y_train, \u001b[39m*\u001b[39;49m\u001b[39m*\u001b[39;49mfit_params)\n\u001b[0;32m    734\u001b[0m \u001b[39mexcept\u001b[39;00m \u001b[39mException\u001b[39;00m:\n\u001b[0;32m    735\u001b[0m     \u001b[39m# Note fit time as time until error\u001b[39;00m\n\u001b[0;32m    736\u001b[0m     fit_time \u001b[39m=\u001b[39m time\u001b[39m.\u001b[39mtime() \u001b[39m-\u001b[39m start_time\n",
      "File \u001b[1;32m~\\AppData\\Roaming\\Python\\Python311\\site-packages\\mlxtend\\classifier\\stacking_cv_classification.py:290\u001b[0m, in \u001b[0;36mStackingCVClassifier.fit\u001b[1;34m(self, X, y, groups, sample_weight)\u001b[0m\n\u001b[0;32m    288\u001b[0m \u001b[39mfor\u001b[39;00m model \u001b[39min\u001b[39;00m \u001b[39mself\u001b[39m\u001b[39m.\u001b[39mclfs_:\n\u001b[0;32m    289\u001b[0m     \u001b[39mif\u001b[39;00m sample_weight \u001b[39mis\u001b[39;00m \u001b[39mNone\u001b[39;00m:\n\u001b[1;32m--> 290\u001b[0m         model\u001b[39m.\u001b[39;49mfit(X, y)\n\u001b[0;32m    291\u001b[0m     \u001b[39melse\u001b[39;00m:\n\u001b[0;32m    292\u001b[0m         model\u001b[39m.\u001b[39mfit(X, y, sample_weight\u001b[39m=\u001b[39msample_weight)\n",
      "File \u001b[1;32m~\\AppData\\Roaming\\Python\\Python311\\site-packages\\sklearn\\base.py:1151\u001b[0m, in \u001b[0;36m_fit_context.<locals>.decorator.<locals>.wrapper\u001b[1;34m(estimator, *args, **kwargs)\u001b[0m\n\u001b[0;32m   1144\u001b[0m     estimator\u001b[39m.\u001b[39m_validate_params()\n\u001b[0;32m   1146\u001b[0m \u001b[39mwith\u001b[39;00m config_context(\n\u001b[0;32m   1147\u001b[0m     skip_parameter_validation\u001b[39m=\u001b[39m(\n\u001b[0;32m   1148\u001b[0m         prefer_skip_nested_validation \u001b[39mor\u001b[39;00m global_skip_validation\n\u001b[0;32m   1149\u001b[0m     )\n\u001b[0;32m   1150\u001b[0m ):\n\u001b[1;32m-> 1151\u001b[0m     \u001b[39mreturn\u001b[39;00m fit_method(estimator, \u001b[39m*\u001b[39;49margs, \u001b[39m*\u001b[39;49m\u001b[39m*\u001b[39;49mkwargs)\n",
      "File \u001b[1;32m~\\AppData\\Roaming\\Python\\Python311\\site-packages\\sklearn\\ensemble\\_forest.py:456\u001b[0m, in \u001b[0;36mBaseForest.fit\u001b[1;34m(self, X, y, sample_weight)\u001b[0m\n\u001b[0;32m    445\u001b[0m trees \u001b[39m=\u001b[39m [\n\u001b[0;32m    446\u001b[0m     \u001b[39mself\u001b[39m\u001b[39m.\u001b[39m_make_estimator(append\u001b[39m=\u001b[39m\u001b[39mFalse\u001b[39;00m, random_state\u001b[39m=\u001b[39mrandom_state)\n\u001b[0;32m    447\u001b[0m     \u001b[39mfor\u001b[39;00m i \u001b[39min\u001b[39;00m \u001b[39mrange\u001b[39m(n_more_estimators)\n\u001b[0;32m    448\u001b[0m ]\n\u001b[0;32m    450\u001b[0m \u001b[39m# Parallel loop: we prefer the threading backend as the Cython code\u001b[39;00m\n\u001b[0;32m    451\u001b[0m \u001b[39m# for fitting the trees is internally releasing the Python GIL\u001b[39;00m\n\u001b[0;32m    452\u001b[0m \u001b[39m# making threading more efficient than multiprocessing in\u001b[39;00m\n\u001b[0;32m    453\u001b[0m \u001b[39m# that case. However, for joblib 0.12+ we respect any\u001b[39;00m\n\u001b[0;32m    454\u001b[0m \u001b[39m# parallel_backend contexts set at a higher level,\u001b[39;00m\n\u001b[0;32m    455\u001b[0m \u001b[39m# since correctness does not rely on using threads.\u001b[39;00m\n\u001b[1;32m--> 456\u001b[0m trees \u001b[39m=\u001b[39m Parallel(\n\u001b[0;32m    457\u001b[0m     n_jobs\u001b[39m=\u001b[39;49m\u001b[39mself\u001b[39;49m\u001b[39m.\u001b[39;49mn_jobs,\n\u001b[0;32m    458\u001b[0m     verbose\u001b[39m=\u001b[39;49m\u001b[39mself\u001b[39;49m\u001b[39m.\u001b[39;49mverbose,\n\u001b[0;32m    459\u001b[0m     prefer\u001b[39m=\u001b[39;49m\u001b[39m\"\u001b[39;49m\u001b[39mthreads\u001b[39;49m\u001b[39m\"\u001b[39;49m,\n\u001b[0;32m    460\u001b[0m )(\n\u001b[0;32m    461\u001b[0m     delayed(_parallel_build_trees)(\n\u001b[0;32m    462\u001b[0m         t,\n\u001b[0;32m    463\u001b[0m         \u001b[39mself\u001b[39;49m\u001b[39m.\u001b[39;49mbootstrap,\n\u001b[0;32m    464\u001b[0m         X,\n\u001b[0;32m    465\u001b[0m         y,\n\u001b[0;32m    466\u001b[0m         sample_weight,\n\u001b[0;32m    467\u001b[0m         i,\n\u001b[0;32m    468\u001b[0m         \u001b[39mlen\u001b[39;49m(trees),\n\u001b[0;32m    469\u001b[0m         verbose\u001b[39m=\u001b[39;49m\u001b[39mself\u001b[39;49m\u001b[39m.\u001b[39;49mverbose,\n\u001b[0;32m    470\u001b[0m         class_weight\u001b[39m=\u001b[39;49m\u001b[39mself\u001b[39;49m\u001b[39m.\u001b[39;49mclass_weight,\n\u001b[0;32m    471\u001b[0m         n_samples_bootstrap\u001b[39m=\u001b[39;49mn_samples_bootstrap,\n\u001b[0;32m    472\u001b[0m     )\n\u001b[0;32m    473\u001b[0m     \u001b[39mfor\u001b[39;49;00m i, t \u001b[39min\u001b[39;49;00m \u001b[39menumerate\u001b[39;49m(trees)\n\u001b[0;32m    474\u001b[0m )\n\u001b[0;32m    476\u001b[0m \u001b[39m# Collect newly grown trees\u001b[39;00m\n\u001b[0;32m    477\u001b[0m \u001b[39mself\u001b[39m\u001b[39m.\u001b[39mestimators_\u001b[39m.\u001b[39mextend(trees)\n",
      "File \u001b[1;32m~\\AppData\\Roaming\\Python\\Python311\\site-packages\\sklearn\\utils\\parallel.py:65\u001b[0m, in \u001b[0;36mParallel.__call__\u001b[1;34m(self, iterable)\u001b[0m\n\u001b[0;32m     60\u001b[0m config \u001b[39m=\u001b[39m get_config()\n\u001b[0;32m     61\u001b[0m iterable_with_config \u001b[39m=\u001b[39m (\n\u001b[0;32m     62\u001b[0m     (_with_config(delayed_func, config), args, kwargs)\n\u001b[0;32m     63\u001b[0m     \u001b[39mfor\u001b[39;00m delayed_func, args, kwargs \u001b[39min\u001b[39;00m iterable\n\u001b[0;32m     64\u001b[0m )\n\u001b[1;32m---> 65\u001b[0m \u001b[39mreturn\u001b[39;00m \u001b[39msuper\u001b[39;49m()\u001b[39m.\u001b[39;49m\u001b[39m__call__\u001b[39;49m(iterable_with_config)\n",
      "File \u001b[1;32m~\\AppData\\Roaming\\Python\\Python311\\site-packages\\joblib\\parallel.py:1855\u001b[0m, in \u001b[0;36mParallel.__call__\u001b[1;34m(self, iterable)\u001b[0m\n\u001b[0;32m   1853\u001b[0m     output \u001b[39m=\u001b[39m \u001b[39mself\u001b[39m\u001b[39m.\u001b[39m_get_sequential_output(iterable)\n\u001b[0;32m   1854\u001b[0m     \u001b[39mnext\u001b[39m(output)\n\u001b[1;32m-> 1855\u001b[0m     \u001b[39mreturn\u001b[39;00m output \u001b[39mif\u001b[39;00m \u001b[39mself\u001b[39m\u001b[39m.\u001b[39mreturn_generator \u001b[39melse\u001b[39;00m \u001b[39mlist\u001b[39m(output)\n\u001b[0;32m   1857\u001b[0m \u001b[39m# Let's create an ID that uniquely identifies the current call. If the\u001b[39;00m\n\u001b[0;32m   1858\u001b[0m \u001b[39m# call is interrupted early and that the same instance is immediately\u001b[39;00m\n\u001b[0;32m   1859\u001b[0m \u001b[39m# re-used, this id will be used to prevent workers that were\u001b[39;00m\n\u001b[0;32m   1860\u001b[0m \u001b[39m# concurrently finalizing a task from the previous call to run the\u001b[39;00m\n\u001b[0;32m   1861\u001b[0m \u001b[39m# callback.\u001b[39;00m\n\u001b[0;32m   1862\u001b[0m \u001b[39mwith\u001b[39;00m \u001b[39mself\u001b[39m\u001b[39m.\u001b[39m_lock:\n",
      "File \u001b[1;32m~\\AppData\\Roaming\\Python\\Python311\\site-packages\\joblib\\parallel.py:1784\u001b[0m, in \u001b[0;36mParallel._get_sequential_output\u001b[1;34m(self, iterable)\u001b[0m\n\u001b[0;32m   1782\u001b[0m \u001b[39mself\u001b[39m\u001b[39m.\u001b[39mn_dispatched_batches \u001b[39m+\u001b[39m\u001b[39m=\u001b[39m \u001b[39m1\u001b[39m\n\u001b[0;32m   1783\u001b[0m \u001b[39mself\u001b[39m\u001b[39m.\u001b[39mn_dispatched_tasks \u001b[39m+\u001b[39m\u001b[39m=\u001b[39m \u001b[39m1\u001b[39m\n\u001b[1;32m-> 1784\u001b[0m res \u001b[39m=\u001b[39m func(\u001b[39m*\u001b[39;49margs, \u001b[39m*\u001b[39;49m\u001b[39m*\u001b[39;49mkwargs)\n\u001b[0;32m   1785\u001b[0m \u001b[39mself\u001b[39m\u001b[39m.\u001b[39mn_completed_tasks \u001b[39m+\u001b[39m\u001b[39m=\u001b[39m \u001b[39m1\u001b[39m\n\u001b[0;32m   1786\u001b[0m \u001b[39mself\u001b[39m\u001b[39m.\u001b[39mprint_progress()\n",
      "File \u001b[1;32m~\\AppData\\Roaming\\Python\\Python311\\site-packages\\sklearn\\utils\\parallel.py:127\u001b[0m, in \u001b[0;36m_FuncWrapper.__call__\u001b[1;34m(self, *args, **kwargs)\u001b[0m\n\u001b[0;32m    125\u001b[0m     config \u001b[39m=\u001b[39m {}\n\u001b[0;32m    126\u001b[0m \u001b[39mwith\u001b[39;00m config_context(\u001b[39m*\u001b[39m\u001b[39m*\u001b[39mconfig):\n\u001b[1;32m--> 127\u001b[0m     \u001b[39mreturn\u001b[39;00m \u001b[39mself\u001b[39;49m\u001b[39m.\u001b[39;49mfunction(\u001b[39m*\u001b[39;49margs, \u001b[39m*\u001b[39;49m\u001b[39m*\u001b[39;49mkwargs)\n",
      "File \u001b[1;32m~\\AppData\\Roaming\\Python\\Python311\\site-packages\\sklearn\\ensemble\\_forest.py:188\u001b[0m, in \u001b[0;36m_parallel_build_trees\u001b[1;34m(tree, bootstrap, X, y, sample_weight, tree_idx, n_trees, verbose, class_weight, n_samples_bootstrap)\u001b[0m\n\u001b[0;32m    185\u001b[0m     \u001b[39melif\u001b[39;00m class_weight \u001b[39m==\u001b[39m \u001b[39m\"\u001b[39m\u001b[39mbalanced_subsample\u001b[39m\u001b[39m\"\u001b[39m:\n\u001b[0;32m    186\u001b[0m         curr_sample_weight \u001b[39m*\u001b[39m\u001b[39m=\u001b[39m compute_sample_weight(\u001b[39m\"\u001b[39m\u001b[39mbalanced\u001b[39m\u001b[39m\"\u001b[39m, y, indices\u001b[39m=\u001b[39mindices)\n\u001b[1;32m--> 188\u001b[0m     tree\u001b[39m.\u001b[39;49mfit(X, y, sample_weight\u001b[39m=\u001b[39;49mcurr_sample_weight, check_input\u001b[39m=\u001b[39;49m\u001b[39mFalse\u001b[39;49;00m)\n\u001b[0;32m    189\u001b[0m \u001b[39melse\u001b[39;00m:\n\u001b[0;32m    190\u001b[0m     tree\u001b[39m.\u001b[39mfit(X, y, sample_weight\u001b[39m=\u001b[39msample_weight, check_input\u001b[39m=\u001b[39m\u001b[39mFalse\u001b[39;00m)\n",
      "File \u001b[1;32m~\\AppData\\Roaming\\Python\\Python311\\site-packages\\sklearn\\base.py:1151\u001b[0m, in \u001b[0;36m_fit_context.<locals>.decorator.<locals>.wrapper\u001b[1;34m(estimator, *args, **kwargs)\u001b[0m\n\u001b[0;32m   1144\u001b[0m     estimator\u001b[39m.\u001b[39m_validate_params()\n\u001b[0;32m   1146\u001b[0m \u001b[39mwith\u001b[39;00m config_context(\n\u001b[0;32m   1147\u001b[0m     skip_parameter_validation\u001b[39m=\u001b[39m(\n\u001b[0;32m   1148\u001b[0m         prefer_skip_nested_validation \u001b[39mor\u001b[39;00m global_skip_validation\n\u001b[0;32m   1149\u001b[0m     )\n\u001b[0;32m   1150\u001b[0m ):\n\u001b[1;32m-> 1151\u001b[0m     \u001b[39mreturn\u001b[39;00m fit_method(estimator, \u001b[39m*\u001b[39;49margs, \u001b[39m*\u001b[39;49m\u001b[39m*\u001b[39;49mkwargs)\n",
      "File \u001b[1;32m~\\AppData\\Roaming\\Python\\Python311\\site-packages\\sklearn\\tree\\_classes.py:1320\u001b[0m, in \u001b[0;36mDecisionTreeRegressor.fit\u001b[1;34m(self, X, y, sample_weight, check_input)\u001b[0m\n\u001b[0;32m   1290\u001b[0m \u001b[39m@_fit_context\u001b[39m(prefer_skip_nested_validation\u001b[39m=\u001b[39m\u001b[39mTrue\u001b[39;00m)\n\u001b[0;32m   1291\u001b[0m \u001b[39mdef\u001b[39;00m \u001b[39mfit\u001b[39m(\u001b[39mself\u001b[39m, X, y, sample_weight\u001b[39m=\u001b[39m\u001b[39mNone\u001b[39;00m, check_input\u001b[39m=\u001b[39m\u001b[39mTrue\u001b[39;00m):\n\u001b[0;32m   1292\u001b[0m \u001b[39m    \u001b[39m\u001b[39m\"\"\"Build a decision tree regressor from the training set (X, y).\u001b[39;00m\n\u001b[0;32m   1293\u001b[0m \n\u001b[0;32m   1294\u001b[0m \u001b[39m    Parameters\u001b[39;00m\n\u001b[1;32m   (...)\u001b[0m\n\u001b[0;32m   1317\u001b[0m \u001b[39m        Fitted estimator.\u001b[39;00m\n\u001b[0;32m   1318\u001b[0m \u001b[39m    \"\"\"\u001b[39;00m\n\u001b[1;32m-> 1320\u001b[0m     \u001b[39msuper\u001b[39;49m()\u001b[39m.\u001b[39;49m_fit(\n\u001b[0;32m   1321\u001b[0m         X,\n\u001b[0;32m   1322\u001b[0m         y,\n\u001b[0;32m   1323\u001b[0m         sample_weight\u001b[39m=\u001b[39;49msample_weight,\n\u001b[0;32m   1324\u001b[0m         check_input\u001b[39m=\u001b[39;49mcheck_input,\n\u001b[0;32m   1325\u001b[0m     )\n\u001b[0;32m   1326\u001b[0m     \u001b[39mreturn\u001b[39;00m \u001b[39mself\u001b[39m\n",
      "File \u001b[1;32m~\\AppData\\Roaming\\Python\\Python311\\site-packages\\sklearn\\tree\\_classes.py:443\u001b[0m, in \u001b[0;36mBaseDecisionTree._fit\u001b[1;34m(self, X, y, sample_weight, check_input, missing_values_in_feature_mask)\u001b[0m\n\u001b[0;32m    432\u001b[0m \u001b[39melse\u001b[39;00m:\n\u001b[0;32m    433\u001b[0m     builder \u001b[39m=\u001b[39m BestFirstTreeBuilder(\n\u001b[0;32m    434\u001b[0m         splitter,\n\u001b[0;32m    435\u001b[0m         min_samples_split,\n\u001b[1;32m   (...)\u001b[0m\n\u001b[0;32m    440\u001b[0m         \u001b[39mself\u001b[39m\u001b[39m.\u001b[39mmin_impurity_decrease,\n\u001b[0;32m    441\u001b[0m     )\n\u001b[1;32m--> 443\u001b[0m builder\u001b[39m.\u001b[39;49mbuild(\u001b[39mself\u001b[39;49m\u001b[39m.\u001b[39;49mtree_, X, y, sample_weight, missing_values_in_feature_mask)\n\u001b[0;32m    445\u001b[0m \u001b[39mif\u001b[39;00m \u001b[39mself\u001b[39m\u001b[39m.\u001b[39mn_outputs_ \u001b[39m==\u001b[39m \u001b[39m1\u001b[39m \u001b[39mand\u001b[39;00m is_classifier(\u001b[39mself\u001b[39m):\n\u001b[0;32m    446\u001b[0m     \u001b[39mself\u001b[39m\u001b[39m.\u001b[39mn_classes_ \u001b[39m=\u001b[39m \u001b[39mself\u001b[39m\u001b[39m.\u001b[39mn_classes_[\u001b[39m0\u001b[39m]\n",
      "\u001b[1;31mKeyboardInterrupt\u001b[0m: "
     ]
    }
   ],
   "source": [
    "lin_model=LinearRegression()\n",
    "sclf = StackingCVClassifier(classifiers=[rf_model,xgb_model],meta_classifier=lin_model,random_state=33)\n",
    "print('3-fold cross validation:\\n')\n",
    "for clf, label in zip([rf_model,xgb_model,sclf],['Random Forest','XGBoost','StackingClassifier']):\n",
    "    scores = np.sqrt(-1*cross_val_score(clf, df_X.values,df_Y.values,cv=5, scoring='neg_mean_squared_error'))*100\n",
    "    print(\"Accuracy: %0.2f (+/- %0.2f) [%s]\"%(scores.mean(), scores.std(),label))"
   ]
  },
  {
   "cell_type": "code",
   "execution_count": 102,
   "metadata": {},
   "outputs": [
    {
     "ename": "KeyboardInterrupt",
     "evalue": "",
     "output_type": "error",
     "traceback": [
      "\u001b[1;31m---------------------------------------------------------------------------\u001b[0m",
      "\u001b[1;31mKeyboardInterrupt\u001b[0m                         Traceback (most recent call last)",
      "Cell \u001b[1;32mIn[102], line 1\u001b[0m\n\u001b[1;32m----> 1\u001b[0m sclf\u001b[39m.\u001b[39;49mfit(df_X,df_Y);\n",
      "File \u001b[1;32m~\\AppData\\Roaming\\Python\\Python311\\site-packages\\mlxtend\\classifier\\stacking_cv_classification.py:290\u001b[0m, in \u001b[0;36mStackingCVClassifier.fit\u001b[1;34m(self, X, y, groups, sample_weight)\u001b[0m\n\u001b[0;32m    288\u001b[0m \u001b[39mfor\u001b[39;00m model \u001b[39min\u001b[39;00m \u001b[39mself\u001b[39m\u001b[39m.\u001b[39mclfs_:\n\u001b[0;32m    289\u001b[0m     \u001b[39mif\u001b[39;00m sample_weight \u001b[39mis\u001b[39;00m \u001b[39mNone\u001b[39;00m:\n\u001b[1;32m--> 290\u001b[0m         model\u001b[39m.\u001b[39;49mfit(X, y)\n\u001b[0;32m    291\u001b[0m     \u001b[39melse\u001b[39;00m:\n\u001b[0;32m    292\u001b[0m         model\u001b[39m.\u001b[39mfit(X, y, sample_weight\u001b[39m=\u001b[39msample_weight)\n",
      "File \u001b[1;32m~\\AppData\\Roaming\\Python\\Python311\\site-packages\\sklearn\\base.py:1151\u001b[0m, in \u001b[0;36m_fit_context.<locals>.decorator.<locals>.wrapper\u001b[1;34m(estimator, *args, **kwargs)\u001b[0m\n\u001b[0;32m   1144\u001b[0m     estimator\u001b[39m.\u001b[39m_validate_params()\n\u001b[0;32m   1146\u001b[0m \u001b[39mwith\u001b[39;00m config_context(\n\u001b[0;32m   1147\u001b[0m     skip_parameter_validation\u001b[39m=\u001b[39m(\n\u001b[0;32m   1148\u001b[0m         prefer_skip_nested_validation \u001b[39mor\u001b[39;00m global_skip_validation\n\u001b[0;32m   1149\u001b[0m     )\n\u001b[0;32m   1150\u001b[0m ):\n\u001b[1;32m-> 1151\u001b[0m     \u001b[39mreturn\u001b[39;00m fit_method(estimator, \u001b[39m*\u001b[39;49margs, \u001b[39m*\u001b[39;49m\u001b[39m*\u001b[39;49mkwargs)\n",
      "File \u001b[1;32m~\\AppData\\Roaming\\Python\\Python311\\site-packages\\sklearn\\ensemble\\_forest.py:456\u001b[0m, in \u001b[0;36mBaseForest.fit\u001b[1;34m(self, X, y, sample_weight)\u001b[0m\n\u001b[0;32m    445\u001b[0m trees \u001b[39m=\u001b[39m [\n\u001b[0;32m    446\u001b[0m     \u001b[39mself\u001b[39m\u001b[39m.\u001b[39m_make_estimator(append\u001b[39m=\u001b[39m\u001b[39mFalse\u001b[39;00m, random_state\u001b[39m=\u001b[39mrandom_state)\n\u001b[0;32m    447\u001b[0m     \u001b[39mfor\u001b[39;00m i \u001b[39min\u001b[39;00m \u001b[39mrange\u001b[39m(n_more_estimators)\n\u001b[0;32m    448\u001b[0m ]\n\u001b[0;32m    450\u001b[0m \u001b[39m# Parallel loop: we prefer the threading backend as the Cython code\u001b[39;00m\n\u001b[0;32m    451\u001b[0m \u001b[39m# for fitting the trees is internally releasing the Python GIL\u001b[39;00m\n\u001b[0;32m    452\u001b[0m \u001b[39m# making threading more efficient than multiprocessing in\u001b[39;00m\n\u001b[0;32m    453\u001b[0m \u001b[39m# that case. However, for joblib 0.12+ we respect any\u001b[39;00m\n\u001b[0;32m    454\u001b[0m \u001b[39m# parallel_backend contexts set at a higher level,\u001b[39;00m\n\u001b[0;32m    455\u001b[0m \u001b[39m# since correctness does not rely on using threads.\u001b[39;00m\n\u001b[1;32m--> 456\u001b[0m trees \u001b[39m=\u001b[39m Parallel(\n\u001b[0;32m    457\u001b[0m     n_jobs\u001b[39m=\u001b[39;49m\u001b[39mself\u001b[39;49m\u001b[39m.\u001b[39;49mn_jobs,\n\u001b[0;32m    458\u001b[0m     verbose\u001b[39m=\u001b[39;49m\u001b[39mself\u001b[39;49m\u001b[39m.\u001b[39;49mverbose,\n\u001b[0;32m    459\u001b[0m     prefer\u001b[39m=\u001b[39;49m\u001b[39m\"\u001b[39;49m\u001b[39mthreads\u001b[39;49m\u001b[39m\"\u001b[39;49m,\n\u001b[0;32m    460\u001b[0m )(\n\u001b[0;32m    461\u001b[0m     delayed(_parallel_build_trees)(\n\u001b[0;32m    462\u001b[0m         t,\n\u001b[0;32m    463\u001b[0m         \u001b[39mself\u001b[39;49m\u001b[39m.\u001b[39;49mbootstrap,\n\u001b[0;32m    464\u001b[0m         X,\n\u001b[0;32m    465\u001b[0m         y,\n\u001b[0;32m    466\u001b[0m         sample_weight,\n\u001b[0;32m    467\u001b[0m         i,\n\u001b[0;32m    468\u001b[0m         \u001b[39mlen\u001b[39;49m(trees),\n\u001b[0;32m    469\u001b[0m         verbose\u001b[39m=\u001b[39;49m\u001b[39mself\u001b[39;49m\u001b[39m.\u001b[39;49mverbose,\n\u001b[0;32m    470\u001b[0m         class_weight\u001b[39m=\u001b[39;49m\u001b[39mself\u001b[39;49m\u001b[39m.\u001b[39;49mclass_weight,\n\u001b[0;32m    471\u001b[0m         n_samples_bootstrap\u001b[39m=\u001b[39;49mn_samples_bootstrap,\n\u001b[0;32m    472\u001b[0m     )\n\u001b[0;32m    473\u001b[0m     \u001b[39mfor\u001b[39;49;00m i, t \u001b[39min\u001b[39;49;00m \u001b[39menumerate\u001b[39;49m(trees)\n\u001b[0;32m    474\u001b[0m )\n\u001b[0;32m    476\u001b[0m \u001b[39m# Collect newly grown trees\u001b[39;00m\n\u001b[0;32m    477\u001b[0m \u001b[39mself\u001b[39m\u001b[39m.\u001b[39mestimators_\u001b[39m.\u001b[39mextend(trees)\n",
      "File \u001b[1;32m~\\AppData\\Roaming\\Python\\Python311\\site-packages\\sklearn\\utils\\parallel.py:65\u001b[0m, in \u001b[0;36mParallel.__call__\u001b[1;34m(self, iterable)\u001b[0m\n\u001b[0;32m     60\u001b[0m config \u001b[39m=\u001b[39m get_config()\n\u001b[0;32m     61\u001b[0m iterable_with_config \u001b[39m=\u001b[39m (\n\u001b[0;32m     62\u001b[0m     (_with_config(delayed_func, config), args, kwargs)\n\u001b[0;32m     63\u001b[0m     \u001b[39mfor\u001b[39;00m delayed_func, args, kwargs \u001b[39min\u001b[39;00m iterable\n\u001b[0;32m     64\u001b[0m )\n\u001b[1;32m---> 65\u001b[0m \u001b[39mreturn\u001b[39;00m \u001b[39msuper\u001b[39;49m()\u001b[39m.\u001b[39;49m\u001b[39m__call__\u001b[39;49m(iterable_with_config)\n",
      "File \u001b[1;32m~\\AppData\\Roaming\\Python\\Python311\\site-packages\\joblib\\parallel.py:1855\u001b[0m, in \u001b[0;36mParallel.__call__\u001b[1;34m(self, iterable)\u001b[0m\n\u001b[0;32m   1853\u001b[0m     output \u001b[39m=\u001b[39m \u001b[39mself\u001b[39m\u001b[39m.\u001b[39m_get_sequential_output(iterable)\n\u001b[0;32m   1854\u001b[0m     \u001b[39mnext\u001b[39m(output)\n\u001b[1;32m-> 1855\u001b[0m     \u001b[39mreturn\u001b[39;00m output \u001b[39mif\u001b[39;00m \u001b[39mself\u001b[39m\u001b[39m.\u001b[39mreturn_generator \u001b[39melse\u001b[39;00m \u001b[39mlist\u001b[39m(output)\n\u001b[0;32m   1857\u001b[0m \u001b[39m# Let's create an ID that uniquely identifies the current call. If the\u001b[39;00m\n\u001b[0;32m   1858\u001b[0m \u001b[39m# call is interrupted early and that the same instance is immediately\u001b[39;00m\n\u001b[0;32m   1859\u001b[0m \u001b[39m# re-used, this id will be used to prevent workers that were\u001b[39;00m\n\u001b[0;32m   1860\u001b[0m \u001b[39m# concurrently finalizing a task from the previous call to run the\u001b[39;00m\n\u001b[0;32m   1861\u001b[0m \u001b[39m# callback.\u001b[39;00m\n\u001b[0;32m   1862\u001b[0m \u001b[39mwith\u001b[39;00m \u001b[39mself\u001b[39m\u001b[39m.\u001b[39m_lock:\n",
      "File \u001b[1;32m~\\AppData\\Roaming\\Python\\Python311\\site-packages\\joblib\\parallel.py:1784\u001b[0m, in \u001b[0;36mParallel._get_sequential_output\u001b[1;34m(self, iterable)\u001b[0m\n\u001b[0;32m   1782\u001b[0m \u001b[39mself\u001b[39m\u001b[39m.\u001b[39mn_dispatched_batches \u001b[39m+\u001b[39m\u001b[39m=\u001b[39m \u001b[39m1\u001b[39m\n\u001b[0;32m   1783\u001b[0m \u001b[39mself\u001b[39m\u001b[39m.\u001b[39mn_dispatched_tasks \u001b[39m+\u001b[39m\u001b[39m=\u001b[39m \u001b[39m1\u001b[39m\n\u001b[1;32m-> 1784\u001b[0m res \u001b[39m=\u001b[39m func(\u001b[39m*\u001b[39;49margs, \u001b[39m*\u001b[39;49m\u001b[39m*\u001b[39;49mkwargs)\n\u001b[0;32m   1785\u001b[0m \u001b[39mself\u001b[39m\u001b[39m.\u001b[39mn_completed_tasks \u001b[39m+\u001b[39m\u001b[39m=\u001b[39m \u001b[39m1\u001b[39m\n\u001b[0;32m   1786\u001b[0m \u001b[39mself\u001b[39m\u001b[39m.\u001b[39mprint_progress()\n",
      "File \u001b[1;32m~\\AppData\\Roaming\\Python\\Python311\\site-packages\\sklearn\\utils\\parallel.py:127\u001b[0m, in \u001b[0;36m_FuncWrapper.__call__\u001b[1;34m(self, *args, **kwargs)\u001b[0m\n\u001b[0;32m    125\u001b[0m     config \u001b[39m=\u001b[39m {}\n\u001b[0;32m    126\u001b[0m \u001b[39mwith\u001b[39;00m config_context(\u001b[39m*\u001b[39m\u001b[39m*\u001b[39mconfig):\n\u001b[1;32m--> 127\u001b[0m     \u001b[39mreturn\u001b[39;00m \u001b[39mself\u001b[39;49m\u001b[39m.\u001b[39;49mfunction(\u001b[39m*\u001b[39;49margs, \u001b[39m*\u001b[39;49m\u001b[39m*\u001b[39;49mkwargs)\n",
      "File \u001b[1;32m~\\AppData\\Roaming\\Python\\Python311\\site-packages\\sklearn\\ensemble\\_forest.py:188\u001b[0m, in \u001b[0;36m_parallel_build_trees\u001b[1;34m(tree, bootstrap, X, y, sample_weight, tree_idx, n_trees, verbose, class_weight, n_samples_bootstrap)\u001b[0m\n\u001b[0;32m    185\u001b[0m     \u001b[39melif\u001b[39;00m class_weight \u001b[39m==\u001b[39m \u001b[39m\"\u001b[39m\u001b[39mbalanced_subsample\u001b[39m\u001b[39m\"\u001b[39m:\n\u001b[0;32m    186\u001b[0m         curr_sample_weight \u001b[39m*\u001b[39m\u001b[39m=\u001b[39m compute_sample_weight(\u001b[39m\"\u001b[39m\u001b[39mbalanced\u001b[39m\u001b[39m\"\u001b[39m, y, indices\u001b[39m=\u001b[39mindices)\n\u001b[1;32m--> 188\u001b[0m     tree\u001b[39m.\u001b[39;49mfit(X, y, sample_weight\u001b[39m=\u001b[39;49mcurr_sample_weight, check_input\u001b[39m=\u001b[39;49m\u001b[39mFalse\u001b[39;49;00m)\n\u001b[0;32m    189\u001b[0m \u001b[39melse\u001b[39;00m:\n\u001b[0;32m    190\u001b[0m     tree\u001b[39m.\u001b[39mfit(X, y, sample_weight\u001b[39m=\u001b[39msample_weight, check_input\u001b[39m=\u001b[39m\u001b[39mFalse\u001b[39;00m)\n",
      "File \u001b[1;32m~\\AppData\\Roaming\\Python\\Python311\\site-packages\\sklearn\\base.py:1151\u001b[0m, in \u001b[0;36m_fit_context.<locals>.decorator.<locals>.wrapper\u001b[1;34m(estimator, *args, **kwargs)\u001b[0m\n\u001b[0;32m   1144\u001b[0m     estimator\u001b[39m.\u001b[39m_validate_params()\n\u001b[0;32m   1146\u001b[0m \u001b[39mwith\u001b[39;00m config_context(\n\u001b[0;32m   1147\u001b[0m     skip_parameter_validation\u001b[39m=\u001b[39m(\n\u001b[0;32m   1148\u001b[0m         prefer_skip_nested_validation \u001b[39mor\u001b[39;00m global_skip_validation\n\u001b[0;32m   1149\u001b[0m     )\n\u001b[0;32m   1150\u001b[0m ):\n\u001b[1;32m-> 1151\u001b[0m     \u001b[39mreturn\u001b[39;00m fit_method(estimator, \u001b[39m*\u001b[39;49margs, \u001b[39m*\u001b[39;49m\u001b[39m*\u001b[39;49mkwargs)\n",
      "File \u001b[1;32m~\\AppData\\Roaming\\Python\\Python311\\site-packages\\sklearn\\tree\\_classes.py:1320\u001b[0m, in \u001b[0;36mDecisionTreeRegressor.fit\u001b[1;34m(self, X, y, sample_weight, check_input)\u001b[0m\n\u001b[0;32m   1290\u001b[0m \u001b[39m@_fit_context\u001b[39m(prefer_skip_nested_validation\u001b[39m=\u001b[39m\u001b[39mTrue\u001b[39;00m)\n\u001b[0;32m   1291\u001b[0m \u001b[39mdef\u001b[39;00m \u001b[39mfit\u001b[39m(\u001b[39mself\u001b[39m, X, y, sample_weight\u001b[39m=\u001b[39m\u001b[39mNone\u001b[39;00m, check_input\u001b[39m=\u001b[39m\u001b[39mTrue\u001b[39;00m):\n\u001b[0;32m   1292\u001b[0m \u001b[39m    \u001b[39m\u001b[39m\"\"\"Build a decision tree regressor from the training set (X, y).\u001b[39;00m\n\u001b[0;32m   1293\u001b[0m \n\u001b[0;32m   1294\u001b[0m \u001b[39m    Parameters\u001b[39;00m\n\u001b[1;32m   (...)\u001b[0m\n\u001b[0;32m   1317\u001b[0m \u001b[39m        Fitted estimator.\u001b[39;00m\n\u001b[0;32m   1318\u001b[0m \u001b[39m    \"\"\"\u001b[39;00m\n\u001b[1;32m-> 1320\u001b[0m     \u001b[39msuper\u001b[39;49m()\u001b[39m.\u001b[39;49m_fit(\n\u001b[0;32m   1321\u001b[0m         X,\n\u001b[0;32m   1322\u001b[0m         y,\n\u001b[0;32m   1323\u001b[0m         sample_weight\u001b[39m=\u001b[39;49msample_weight,\n\u001b[0;32m   1324\u001b[0m         check_input\u001b[39m=\u001b[39;49mcheck_input,\n\u001b[0;32m   1325\u001b[0m     )\n\u001b[0;32m   1326\u001b[0m     \u001b[39mreturn\u001b[39;00m \u001b[39mself\u001b[39m\n",
      "File \u001b[1;32m~\\AppData\\Roaming\\Python\\Python311\\site-packages\\sklearn\\tree\\_classes.py:443\u001b[0m, in \u001b[0;36mBaseDecisionTree._fit\u001b[1;34m(self, X, y, sample_weight, check_input, missing_values_in_feature_mask)\u001b[0m\n\u001b[0;32m    432\u001b[0m \u001b[39melse\u001b[39;00m:\n\u001b[0;32m    433\u001b[0m     builder \u001b[39m=\u001b[39m BestFirstTreeBuilder(\n\u001b[0;32m    434\u001b[0m         splitter,\n\u001b[0;32m    435\u001b[0m         min_samples_split,\n\u001b[1;32m   (...)\u001b[0m\n\u001b[0;32m    440\u001b[0m         \u001b[39mself\u001b[39m\u001b[39m.\u001b[39mmin_impurity_decrease,\n\u001b[0;32m    441\u001b[0m     )\n\u001b[1;32m--> 443\u001b[0m builder\u001b[39m.\u001b[39;49mbuild(\u001b[39mself\u001b[39;49m\u001b[39m.\u001b[39;49mtree_, X, y, sample_weight, missing_values_in_feature_mask)\n\u001b[0;32m    445\u001b[0m \u001b[39mif\u001b[39;00m \u001b[39mself\u001b[39m\u001b[39m.\u001b[39mn_outputs_ \u001b[39m==\u001b[39m \u001b[39m1\u001b[39m \u001b[39mand\u001b[39;00m is_classifier(\u001b[39mself\u001b[39m):\n\u001b[0;32m    446\u001b[0m     \u001b[39mself\u001b[39m\u001b[39m.\u001b[39mn_classes_ \u001b[39m=\u001b[39m \u001b[39mself\u001b[39m\u001b[39m.\u001b[39mn_classes_[\u001b[39m0\u001b[39m]\n",
      "\u001b[1;31mKeyboardInterrupt\u001b[0m: "
     ]
    }
   ],
   "source": [
    "sclf.fit(df_X,df_Y);"
   ]
  },
  {
   "cell_type": "markdown",
   "metadata": {},
   "source": [
    "### Final Predictions"
   ]
  },
  {
   "cell_type": "markdown",
   "metadata": {},
   "source": [
    "#### Load test data"
   ]
  },
  {
   "cell_type": "code",
   "execution_count": null,
   "metadata": {},
   "outputs": [],
   "source": [
    "test=pd.read_csv('Data/test.csv')\n",
    "len(test)\n",
    "test.head()"
   ]
  },
  {
   "cell_type": "markdown",
   "metadata": {},
   "source": [
    "#### Checking the missing value"
   ]
  },
  {
   "cell_type": "code",
   "execution_count": null,
   "metadata": {},
   "outputs": [],
   "source": [
    "# cross check missing values\n",
    "test.isnull().sum()"
   ]
  },
  {
   "cell_type": "markdown",
   "metadata": {},
   "source": [
    "#### Treat the missing value"
   ]
  },
  {
   "cell_type": "code",
   "execution_count": null,
   "metadata": {},
   "outputs": [],
   "source": [
    "# treat missing values\n",
    "test.personal_loan_active.fillna(0,inplace=True)\n",
    "test.vehicle_loan_active.fillna(0,inplace=True)\n",
    "test.personal_loan_closed.fillna(0,inplace=True)\n",
    "test.vehicle_loan_closed.fillna(0,inplace=True)\n",
    "test.dc_count_apr.fillna(0,inplace=True)\n",
    "test.dc_count_may.fillna(0,inplace=True)\n",
    "test.dc_count_jun.fillna(0,inplace=True)\n",
    "test.loc[test.dc_count_apr==0,'dc_cons_apr']=0\n",
    "test.loc[test.dc_count_may==0,'dc_cons_may']=0\n",
    "test.loc[test.dc_count_jun==0,'dc_cons_jun']=0\n",
    "test.cc_count_apr.fillna(0,inplace=True)\n",
    "test.cc_count_may.fillna(0,inplace=True)\n",
    "test.cc_count_jun.fillna(0,inplace=True)\n",
    "test.loc[test.cc_count_apr==0,'cc_cons_apr']=0\n",
    "test.loc[test.cc_count_may==0,'cc_cons_may']=0\n",
    "test.loc[test.cc_count_jun==0,'cc_cons_jun']=0\n",
    "test.debit_count_apr.fillna(0,inplace=True)\n",
    "test.debit_count_may.fillna(0,inplace=True)\n",
    "test.debit_count_jun.fillna(0,inplace=True)\n",
    "test.loc[test.debit_count_apr==0,'debit_amount_apr']=0\n",
    "test.loc[test.debit_count_may==0,'debit_amount_may']=0\n",
    "test.loc[test.debit_count_jun==0,'debit_amount_jun']=0\n",
    "test.credit_count_apr.fillna(0,inplace=True)\n",
    "test.credit_count_may.fillna(0,inplace=True)\n",
    "test.credit_count_jun.fillna(0,inplace=True)\n",
    "test.loc[test.credit_count_apr==0,'credit_amount_apr']=0\n",
    "test.loc[test.credit_count_may==0,'credit_amount_may']=0\n",
    "test.loc[test.credit_count_jun==0,'credit_amount_jun']=0\n",
    "test.loan_enq.fillna('N',inplace=True)\n",
    "test.drop(columns=['investment_1','investment_2','investment_3','investment_4'],axis=1,inplace=True)\n",
    "test.fillna(df.mean(),inplace=True)"
   ]
  },
  {
   "cell_type": "markdown",
   "metadata": {},
   "source": [
    "#### Feature Engineering"
   ]
  },
  {
   "cell_type": "code",
   "execution_count": null,
   "metadata": {},
   "outputs": [],
   "source": [
    "# change the datatypes of the columns accordingly for generating dummies\n",
    "categorical_columns=['account_type','gender','region_code','personal_loan_active',\n",
    "                     'vehicle_loan_active','personal_loan_closed','vehicle_loan_closed','loan_enq']\n",
    "for c in categorical_columns:\n",
    "    test[c]=test[c].astype('category');"
   ]
  },
  {
   "cell_type": "code",
   "execution_count": null,
   "metadata": {},
   "outputs": [],
   "source": [
    "test=test.drop(columns=['region_code'])\n",
    "# create calculated fields\n",
    "# Total dc and cc cons for 3 months\n",
    "test['cc_cons_sum']= test['cc_cons_apr'] + test['cc_cons_may'] + test['cc_cons_jun']\n",
    "test['dc_cons_sum']= test['dc_cons_apr']+ test['dc_cons_may'] + test['dc_cons_jun']\n",
    "# Total dc and cc count for 3 months\n",
    "test['cc_count_sum'] = test['cc_count_apr'] + test['cc_count_may'] + test['cc_count_jun']\n",
    "test['dc_count_sum'] = test['dc_count_apr'] + test['dc_count_may'] + test['dc_count_jun']\n",
    "# Total dc and cc cons average for 3 months\n",
    "test['cc_cons_avg'] = 0\n",
    "test.loc[test.cc_count_sum != 0,'cc_cons_avg'] = test.loc[test.cc_count_sum != 0,'cc_cons_sum']/test.loc[test.cc_count_sum != 0,'cc_count_sum']\n",
    "test['dc_cons_avg'] = 0\n",
    "test.loc[test.dc_count_sum != 0,'dc_cons_avg'] = test.loc[test.dc_count_sum != 0,'dc_cons_sum']/test.loc[test.dc_count_sum != 0,'dc_count_sum']\n",
    "# Average dc cons for each month\n",
    "test['dc_cons_apr_avg']= 0\n",
    "test.loc[test.dc_count_apr != 0,'dc_cons_apr_avg'] = test.loc[test.dc_count_apr != 0,'dc_cons_apr']/test.loc[test.dc_count_apr != 0,'dc_count_apr']\n",
    "test['dc_cons_may_avg'] = 0\n",
    "test.loc[test.dc_count_may != 0,'dc_cons_may_avg'] = test.loc[test.dc_count_may != 0,'dc_cons_may']/test.loc[test.dc_count_may != 0,'dc_count_may']\n",
    "test['dc_cons_jun_avg']= 0\n",
    "test.loc[test.dc_count_jun != 0,'dc_cons_jun_avg'] = test.loc[test.dc_count_jun != 0,'dc_cons_jun']/test.loc[test.dc_count_jun != 0,'dc_count_jun']\n",
    "# Average cc cons for each month\n",
    "test['cc_cons_apr_avg'] = 0\n",
    "test.loc[test.cc_count_apr != 0,'cc_cons_apr_avg'] = test.loc[test.cc_count_apr != 0,'cc_cons_apr']/test.loc[test.cc_count_apr != 0,'cc_count_apr']\n",
    "test['cc_cons_may_avg'] = 0\n",
    "test.loc[test.cc_count_may != 0,'cc_cons_may_avg'] = test.loc[test.cc_count_may != 0,'cc_cons_may']/test.loc[test.cc_count_may != 0,'cc_count_may']\n",
    "test['cc_cons_jun_avg'] = 0\n",
    "test.loc[test.cc_count_jun != 0,'cc_cons_jun_avg'] = test.loc[test.cc_count_jun != 0,'cc_cons_jun']/test.loc[test.cc_count_jun != 0,'cc_count_jun']\n",
    "# Total credit and debit amount for 3 months\n",
    "test['credit_amount_sum'] = test.credit_amount_apr + test.credit_amount_may + test.credit_amount_jun\n",
    "test['debit_amount_sum'] = test.debit_amount_apr + test.debit_amount_may + test.debit_amount_jun\n",
    "# Total credit and debit count for 3 months\n",
    "test['credit_count_sum'] = test.credit_count_apr + test.credit_count_may + test.credit_count_jun\n",
    "test['debit_count_sum'] = test.debit_count_apr + test.debit_count_may + test.debit_count_jun\n",
    "# Total credit and debit amount average for 3 months\n",
    "test['credit_amount_avg'] = 0\n",
    "test.loc[test.credit_count_sum != 0,'credit_amount_avg'] = test.loc[test.credit_count_sum != 0,'credit_amount_sum']/test.loc[test.credit_count_sum != 0,'credit_count_sum']\n",
    "test['debit_amount_avg'] = 0\n",
    "test.loc[test.debit_count_sum != 0,'debit_amount_avg'] = test.loc[test.debit_count_sum != 0,'debit_amount_sum']/test.loc[test.debit_count_sum != 0,'debit_count_sum']\n",
    "# average debit amount for each month\n",
    "test['debit_amount_apr_avg']= 0\n",
    "test.loc[test.debit_count_apr != 0,'debit_amount_apr_avg'] = test.loc[test.debit_count_apr != 0,'debit_amount_apr']/test.loc[test.debit_count_apr != 0,'debit_count_apr']\n",
    "test['debit_amount_may_avg'] = 0\n",
    "test.loc[test.debit_count_may != 0,'debit_amount_may_avg'] = test.loc[test.debit_count_may != 0,'debit_amount_may']/test.loc[test.debit_count_may != 0,'debit_count_may']\n",
    "test['debit_amount_jun_avg'] = 0\n",
    "test.loc[test.debit_count_jun != 0,'debit_amount_jun_avg'] = test.loc[test.debit_count_jun != 0,'debit_amount_jun']/test.loc[test.debit_count_jun != 0,'debit_count_jun']\n",
    "# average credit amount for each month\n",
    "test['credit_amount_apr_avg'] = 0\n",
    "test.loc[test.credit_count_apr != 0,'credit_amount_apr_avg'] = test.loc[test.credit_count_apr != 0,'credit_amount_apr']/test.loc[test.credit_count_apr != 0,'credit_count_apr']\n",
    "test['credit_amount_may_avg'] = 0\n",
    "test.loc[test.credit_count_may != 0,'credit_amount_may_avg'] = test.loc[test.credit_count_may != 0,'credit_amount_may']/test.loc[test.credit_count_may != 0,'credit_count_may']\n",
    "test['credit_amount_jun_avg'] = 0\n",
    "test.loc[test.credit_count_jun != 0,'credit_amount_jun_avg'] = test.loc[test.credit_count_jun != 0,'credit_amount_jun']/test.loc[test.credit_count_jun != 0,'credit_count_jun']\n",
    "# percentage credit amount per month\n",
    "test['perc_credit_amount_apr'] = 0\n",
    "test.loc[test.max_credit_amount_apr!= 0,'perc_credit_amount_apr'] = test.loc[test.max_credit_amount_apr!= 0,'credit_amount_apr']/test.loc[test.max_credit_amount_apr!= 0,'max_credit_amount_apr']\n",
    "test['perc_credit_amount_may'] = 0\n",
    "test.loc[test.max_credit_amount_may!= 0,'perc_credit_amount_may'] = test.loc[test.max_credit_amount_may!= 0,'credit_amount_may']/test.loc[test.max_credit_amount_may!= 0,'max_credit_amount_may']\n",
    "test['perc_credit_amount_jun'] = 0\n",
    "test.loc[test.max_credit_amount_jun!= 0,'perc_credit_amount_jun'] = test.loc[test.max_credit_amount_jun!= 0,'credit_amount_jun']/test.loc[test.max_credit_amount_jun!= 0,'max_credit_amount_jun']\n",
    "# proportion of debit and credit consumptions per month\n",
    "test['cc_cons_apr_prop'] = 0\n",
    "test.loc[test.cc_cons_sum!= 0,'cc_cons_apr_prop'] = test.loc[test.cc_cons_sum!= 0,'cc_cons_apr']/test.loc[test.cc_cons_sum != 0,'cc_cons_sum']\n",
    "test['cc_cons_may_prop'] = 0\n",
    "test.loc[test.cc_cons_sum != 0,'cc_cons_may_prop'] = test.loc[test.cc_cons_sum != 0,'cc_cons_may']/test.loc[test.cc_cons_sum != 0,'cc_cons_sum']\n",
    "test['cc_cons_jun_prop'] = 0\n",
    "test.loc[test.cc_cons_sum != 0,'cc_cons_jun_prop'] = test.loc[test.cc_cons_sum != 0,'cc_cons_jun']/test.loc[test.cc_cons_sum != 0,'cc_cons_sum']\n",
    "test['dc_cons_apr_prop'] = 0\n",
    "test.loc[test.dc_cons_sum != 0,'dc_cons_apr_prop'] = test.loc[test.dc_cons_sum != 0,'dc_cons_apr']/test.loc[test.dc_cons_sum != 0,'dc_cons_sum']\n",
    "test['dc_cons_may_prop'] = 0\n",
    "test.loc[test.dc_cons_sum != 0,'dc_cons_may_prop'] = test.loc[test.dc_cons_sum != 0,'dc_cons_may']/test.loc[test.dc_cons_sum != 0,'dc_cons_sum']\n",
    "test['dc_cons_jun_prop'] = 0\n",
    "test.loc[test.dc_cons_sum != 0,'dc_cons_jun_prop'] = test.loc[test.dc_cons_sum != 0,'dc_cons_jun']/test.loc[test.dc_cons_sum != 0,'dc_cons_sum']\n",
    "# proportion of debit and credit amounts per month\n",
    "test['credit_amount_apr_prop'] = 0\n",
    "test.loc[test.credit_amount_sum != 0,'credit_amount_apr_prop'] = test.loc[test.credit_amount_sum != 0,'credit_amount_apr']/test.loc[test.credit_amount_sum != 0,'credit_amount_sum']\n",
    "test['credit_amount_may_prop'] = 0\n",
    "test.loc[test.credit_amount_sum != 0,'credit_amount_may_prop'] = test.loc[test.credit_amount_sum != 0,'credit_amount_may']/test.loc[test.credit_amount_sum != 0,'credit_amount_sum']\n",
    "test['credit_amount_jun_prop'] = 0\n",
    "test.loc[test.credit_amount_sum != 0,'credit_amount_jun_prop'] = test.loc[test.credit_amount_sum != 0,'credit_amount_jun']/test.loc[test.credit_amount_sum != 0,'credit_amount_sum']\n",
    "test['debit_amount_apr_prop'] = 0\n",
    "test.loc[test.debit_amount_sum != 0,'debit_amount_apr_prop'] = test.loc[test.debit_amount_sum != 0,'debit_amount_apr']/test.loc[test.debit_amount_sum != 0,'debit_amount_sum']\n",
    "test['debit_amount_may_prop'] = 0\n",
    "test.loc[test.debit_amount_sum != 0,'debit_amount_may_prop'] = test.loc[test.debit_amount_sum != 0,'debit_amount_may']/test.loc[test.debit_amount_sum != 0,'debit_amount_sum']\n",
    "test['debit_amount_jun_prop'] = 0\n",
    "test.loc[test.debit_amount_sum != 0,'debit_amount_jun_prop'] = test.loc[test.debit_amount_sum != 0,'debit_amount_jun']/test.loc[test.debit_amount_sum != 0,'debit_amount_sum']\n",
    "# debit by credit cons and amount ratios\n",
    "test['d_by_c_cons_ratio_apr'] = 0\n",
    "test.loc[test.cc_cons_apr != 0,'d_by_c_cons_ratio_apr'] = test.loc[test.cc_cons_apr != 0,'dc_cons_apr']/test.loc[test.cc_cons_apr != 0,'cc_cons_apr']\n",
    "test['d_by_c_cons_ratio_may'] = 0\n",
    "test.loc[test.cc_cons_may != 0,'d_by_c_cons_ratio_may'] = test.loc[test.cc_cons_may != 0,'dc_cons_may']/test.loc[test.cc_cons_may != 0,'cc_cons_may']\n",
    "test['d_by_c_cons_ratio_jun'] = 0\n",
    "test.loc[test.cc_cons_jun != 0,'d_by_c_cons_ratio_jun'] = test.loc[test.cc_cons_jun != 0,'dc_cons_jun']/test.loc[test.cc_cons_jun != 0,'cc_cons_jun']\n",
    "test['d_by_c_amount_ratio_apr'] = 0\n",
    "test.loc[test.credit_amount_apr != 0,'d_by_c_amount_ratio_apr'] = test.loc[test.credit_amount_apr != 0,'debit_amount_apr']/test.loc[test.credit_amount_apr != 0,'credit_amount_apr']\n",
    "test['d_by_c_amount_ratio_may'] = 0\n",
    "test.loc[test.credit_amount_may != 0,'d_by_c_amount_ratio_may'] = test.loc[test.credit_amount_may != 0,'debit_amount_may']/test.loc[test.credit_amount_may != 0,'credit_amount_may']\n",
    "test['d_by_c_amount_ratio_jun'] = 0\n",
    "test.loc[test.credit_amount_jun != 0,'d_by_c_amount_ratio_jun'] = test.loc[test.credit_amount_jun != 0,'debit_amount_jun']/test.loc[test.credit_amount_jun != 0,'credit_amount_jun']\n",
    "len(test.columns)"
   ]
  },
  {
   "cell_type": "markdown",
   "metadata": {},
   "source": [
    "#### Prediction"
   ]
  },
  {
   "cell_type": "code",
   "execution_count": null,
   "metadata": {},
   "outputs": [],
   "source": [
    "# generate dummy values\n",
    "test_X=pd.get_dummies(test.drop(columns=['id']),drop_first=True)\n",
    "test_Y=sclf.predict(test_X.values)"
   ]
  },
  {
   "cell_type": "code",
   "execution_count": null,
   "metadata": {},
   "outputs": [],
   "source": [
    "sample_submission=pd.concat([test['id'], pd.Series(test_Y)], axis=1)\n",
    "sample_submission.rename(columns={0:'cc_cons'},inplace=True)\n",
    "sample_submission['cc_cons']=np.exp(sample_submission['cc_cons'])-1\n",
    "sample_submission.head()"
   ]
  }
 ],
 "metadata": {
  "kernelspec": {
   "display_name": "Python 3",
   "language": "python",
   "name": "python3"
  },
  "language_info": {
   "codemirror_mode": {
    "name": "ipython",
    "version": 3
   },
   "file_extension": ".py",
   "mimetype": "text/x-python",
   "name": "python",
   "nbconvert_exporter": "python",
   "pygments_lexer": "ipython3",
   "version": "3.11.2"
  },
  "orig_nbformat": 4
 },
 "nbformat": 4,
 "nbformat_minor": 2
}
